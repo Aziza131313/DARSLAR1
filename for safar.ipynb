{
 "cells": [
  {
   "cell_type": "markdown",
   "id": "38c0bbe6",
   "metadata": {},
   "source": [
    "# for"
   ]
  },
  {
   "cell_type": "code",
   "execution_count": 7,
   "id": "cbe84e85",
   "metadata": {},
   "outputs": [
    {
     "name": "stdout",
     "output_type": "stream",
     "text": [
      "k=2\n",
      "n=9\n",
      "2,2,2,2,2,2,2,2,2,"
     ]
    }
   ],
   "source": [
    "# for 1\n",
    "k=int(input('k='))\n",
    "n=int(input('n='))\n",
    "for i in range(n):\n",
    "    print(k,end=',')"
   ]
  },
  {
   "cell_type": "code",
   "execution_count": 9,
   "id": "0d9a7be7",
   "metadata": {},
   "outputs": [
    {
     "name": "stdout",
     "output_type": "stream",
     "text": [
      "a=1\n",
      "b=9\n",
      "1,2,3,4,5,6,7,8,9,"
     ]
    }
   ],
   "source": [
    "# for 2\n",
    "a=int(input('a='))\n",
    "b=int(input('b='))\n",
    "for i in range(a,b+1):\n",
    "    print(i,end=',')"
   ]
  },
  {
   "cell_type": "code",
   "execution_count": 12,
   "id": "1636e738",
   "metadata": {},
   "outputs": [
    {
     "name": "stdout",
     "output_type": "stream",
     "text": [
      "a=1\n",
      "b=9\n",
      "8,7,6,5,4,3,2,"
     ]
    }
   ],
   "source": [
    "# for 3\n",
    "a=int(input('a='))\n",
    "b=int(input('b='))\n",
    "for i in range(b-1,a,-1):\n",
    "    print(i,end=',')"
   ]
  },
  {
   "cell_type": "code",
   "execution_count": 16,
   "id": "fce850e5",
   "metadata": {},
   "outputs": [
    {
     "name": "stdout",
     "output_type": "stream",
     "text": [
      "n=3\n",
      "3,6,9,12,15,18,21,24,27,30,"
     ]
    }
   ],
   "source": [
    "# for 4\n",
    "n=int(input('n='))\n",
    "for i in range(1,10+1):\n",
    "    print(i*n,end=',')"
   ]
  },
  {
   "cell_type": "code",
   "execution_count": 17,
   "id": "bcdd09f7",
   "metadata": {},
   "outputs": [
    {
     "name": "stdout",
     "output_type": "stream",
     "text": [
      "n=3\n",
      "0.3,0.6,0.9,1.2,1.5,1.8,2.1,2.4,2.7,3.0,"
     ]
    }
   ],
   "source": [
    "# for 5\n",
    "n=int(input('n='))\n",
    "for i in range(1,10+1):\n",
    "    print((i/10)*n,end=',')"
   ]
  },
  {
   "cell_type": "code",
   "execution_count": 21,
   "id": "b838be50",
   "metadata": {},
   "outputs": [
    {
     "name": "stdout",
     "output_type": "stream",
     "text": [
      "n=20\n",
      "24.0,28.0,32.0,36.0,40.0,"
     ]
    }
   ],
   "source": [
    "# for 6\n",
    "n=int(input('n='))\n",
    "for i in range(12,20+1,2):\n",
    "    print((i/10)*n,end=',')"
   ]
  },
  {
   "cell_type": "code",
   "execution_count": 24,
   "id": "31fdc514",
   "metadata": {},
   "outputs": [
    {
     "name": "stdout",
     "output_type": "stream",
     "text": [
      "a=1\n",
      "b=6\n",
      "15\n"
     ]
    }
   ],
   "source": [
    "# for 7\n",
    "a=int(input('a='))\n",
    "b=int(input('b='))\n",
    "s=0\n",
    "for i in range(a,b):\n",
    "    s+=i\n",
    "print(s)"
   ]
  },
  {
   "cell_type": "code",
   "execution_count": 25,
   "id": "fb61cb74",
   "metadata": {},
   "outputs": [
    {
     "name": "stdout",
     "output_type": "stream",
     "text": [
      "a=1\n",
      "b=5\n",
      "24\n"
     ]
    }
   ],
   "source": [
    "# for 8\n",
    "a=int(input('a='))\n",
    "b=int(input('b='))\n",
    "s=1\n",
    "for i in range(a,b):\n",
    "    s*=i\n",
    "print(s)"
   ]
  },
  {
   "cell_type": "code",
   "execution_count": 28,
   "id": "2e2644fb",
   "metadata": {},
   "outputs": [
    {
     "name": "stdout",
     "output_type": "stream",
     "text": [
      "a=1\n",
      "b=6\n",
      "55\n"
     ]
    }
   ],
   "source": [
    "# for 9\n",
    "a=int(input('a='))\n",
    "b=int(input('b='))\n",
    "s=0\n",
    "for i in range(a,b):\n",
    "    s+=i*i\n",
    "print(s)"
   ]
  },
  {
   "cell_type": "code",
   "execution_count": 32,
   "id": "77688fa2",
   "metadata": {},
   "outputs": [
    {
     "name": "stdout",
     "output_type": "stream",
     "text": [
      "n=3\n",
      "1.8333333333333333\n"
     ]
    }
   ],
   "source": [
    "# for 10\n",
    "n=int(input('n='))\n",
    "s=0\n",
    "for i in range(1,n+1):\n",
    "    s+=1/i\n",
    "print(s)"
   ]
  },
  {
   "cell_type": "code",
   "execution_count": 34,
   "id": "787bb018",
   "metadata": {},
   "outputs": [
    {
     "name": "stdout",
     "output_type": "stream",
     "text": [
      "n=5\n",
      "355\n"
     ]
    }
   ],
   "source": [
    "# for 11\n",
    "n=int(input('n='))\n",
    "s=0\n",
    "for i in range(n,2*n+1):\n",
    "    s+=i*i\n",
    "print(s)"
   ]
  },
  {
   "cell_type": "code",
   "execution_count": 37,
   "id": "6250e70c",
   "metadata": {},
   "outputs": [
    {
     "name": "stdout",
     "output_type": "stream",
     "text": [
      "n=10\n",
      "2.5718203109552525e+61\n"
     ]
    }
   ],
   "source": [
    "# for 12\n",
    "n=int(input('n='))\n",
    "s=1\n",
    "for i in range(11,10*n+1):\n",
    "    s*=i/10\n",
    "print(s)"
   ]
  },
  {
   "cell_type": "code",
   "execution_count": 178,
   "id": "b60328df",
   "metadata": {},
   "outputs": [
    {
     "name": "stdout",
     "output_type": "stream",
     "text": [
      "n=5\n",
      "-162.0\n"
     ]
    }
   ],
   "source": [
    "# for 13\n",
    "n=int(input('n='))\n",
    "s=0\n",
    "p=1\n",
    "for i in range(11,10*n+1):\n",
    "    p=-1\n",
    "    s+=p*(i/10+1)\n",
    "print(s)"
   ]
  },
  {
   "cell_type": "code",
   "execution_count": 50,
   "id": "69f8bcca",
   "metadata": {},
   "outputs": [
    {
     "name": "stdout",
     "output_type": "stream",
     "text": [
      "n=5\n",
      "35\n"
     ]
    }
   ],
   "source": [
    "# for 14\n",
    "n=int(input('n='))\n",
    "s=0\n",
    "for i in range(1,n+1,2):\n",
    "    s+=i*i\n",
    "print(s)"
   ]
  },
  {
   "cell_type": "code",
   "execution_count": 61,
   "id": "ef083873",
   "metadata": {},
   "outputs": [
    {
     "name": "stdout",
     "output_type": "stream",
     "text": [
      "a=4\n",
      "n=5\n",
      "1024\n"
     ]
    }
   ],
   "source": [
    "# for 15\n",
    "a=int(input('a='))\n",
    "n=int(input('n='))\n",
    "s=1\n",
    "for i in range(1,n+1):\n",
    "    s*=a\n",
    "print(s)"
   ]
  },
  {
   "cell_type": "code",
   "execution_count": 64,
   "id": "f5841c33",
   "metadata": {},
   "outputs": [
    {
     "name": "stdout",
     "output_type": "stream",
     "text": [
      "a=2\n",
      "n=10\n",
      "2,4,8,16,32,64,128,256,512,1024,"
     ]
    }
   ],
   "source": [
    "# for 16\n",
    "a=int(input('a='))\n",
    "n=int(input('n='))\n",
    "s=1\n",
    "for i in range(1,n+1):\n",
    "    s*=a\n",
    "    print(s,end=',')"
   ]
  },
  {
   "cell_type": "code",
   "execution_count": 81,
   "id": "e85753bc",
   "metadata": {},
   "outputs": [
    {
     "name": "stdout",
     "output_type": "stream",
     "text": [
      "a=2\n",
      "n=4\n",
      "31\n"
     ]
    }
   ],
   "source": [
    "# for 17\n",
    "a=int(input('a='))\n",
    "n=int(input('n='))\n",
    "s=1\n",
    "for i in range(1,n+1):\n",
    "    s+=i*i\n",
    "print(s)"
   ]
  },
  {
   "cell_type": "code",
   "execution_count": 79,
   "id": "6522ba4b",
   "metadata": {},
   "outputs": [
    {
     "name": "stdout",
     "output_type": "stream",
     "text": [
      "a=4\n",
      "n=2\n",
      "13\n"
     ]
    }
   ],
   "source": [
    "# for 18\n",
    "a=int(input('a='))\n",
    "n=int(input('n='))\n",
    "p=1\n",
    "s=1\n",
    "for i in range(1,n+1):\n",
    "    p*=-a\n",
    "    s+=p\n",
    "print(s)"
   ]
  },
  {
   "cell_type": "code",
   "execution_count": 85,
   "id": "27511afb",
   "metadata": {},
   "outputs": [
    {
     "name": "stdout",
     "output_type": "stream",
     "text": [
      "n=6\n",
      "720\n"
     ]
    }
   ],
   "source": [
    "# for 19\n",
    "n=int(input('n='))\n",
    "f=1\n",
    "for i in range(1,n+1):\n",
    "    f*=i\n",
    "print(f)"
   ]
  },
  {
   "cell_type": "code",
   "execution_count": 89,
   "id": "b32cc172",
   "metadata": {},
   "outputs": [
    {
     "name": "stdout",
     "output_type": "stream",
     "text": [
      "n=4\n",
      "33\n"
     ]
    }
   ],
   "source": [
    "# for 20\n",
    "n=int(input('n='))\n",
    "f=1\n",
    "s=0\n",
    "for i in range(1,n+1):\n",
    "    f*=i\n",
    "    s+=f\n",
    "print(s)"
   ]
  },
  {
   "cell_type": "code",
   "execution_count": 100,
   "id": "45420216",
   "metadata": {},
   "outputs": [
    {
     "name": "stdout",
     "output_type": "stream",
     "text": [
      "n=3\n",
      "2.6666666666666665\n"
     ]
    }
   ],
   "source": [
    "# for 21\n",
    "n=int(input('n='))\n",
    "f=1\n",
    "s=1\n",
    "for i in range(1,n+1):\n",
    "    f*=i\n",
    "    s+=1/f\n",
    "print(s)"
   ]
  },
  {
   "cell_type": "code",
   "execution_count": 108,
   "id": "40a937f0",
   "metadata": {},
   "outputs": [
    {
     "name": "stdout",
     "output_type": "stream",
     "text": [
      "x=2\n",
      "n=2\n",
      "4.0\n"
     ]
    }
   ],
   "source": [
    "# for 22\n",
    "x=int(input('x='))\n",
    "n=int(input('n='))\n",
    "s=1\n",
    "f=1\n",
    "for i in range(1,n+1):\n",
    "    f*=i\n",
    "    s+=x/f\n",
    "print(s)"
   ]
  },
  {
   "cell_type": "code",
   "execution_count": 116,
   "id": "c718b4c0",
   "metadata": {},
   "outputs": [
    {
     "name": "stdout",
     "output_type": "stream",
     "text": [
      "x=1\n",
      "n=4\n",
      "0.8248015873015874\n"
     ]
    }
   ],
   "source": [
    "# for 23\n",
    "x=int(input('x='))\n",
    "n=int(input('n='))\n",
    "f=1\n",
    "s=x\n",
    "p=1\n",
    "for i in range(3,2*n+1,2):\n",
    "    p=-1\n",
    "    f*=i*(i-1)\n",
    "    s+=p*x**i/f\n",
    "print(s)"
   ]
  },
  {
   "cell_type": "code",
   "execution_count": 119,
   "id": "123c1b21",
   "metadata": {},
   "outputs": [
    {
     "name": "stdout",
     "output_type": "stream",
     "text": [
      "x=1\n",
      "n=4\n",
      "0.4569196428571428\n"
     ]
    }
   ],
   "source": [
    "# for 24\n",
    "x=int(input('x='))\n",
    "n=int(input('n='))\n",
    "f=1\n",
    "s=1\n",
    "p=1\n",
    "for i in range(2,2*n+1,2):\n",
    "    p=-1\n",
    "    f*=i*(i-1)\n",
    "    s+=p*x**i/f\n",
    "print(s)"
   ]
  },
  {
   "cell_type": "code",
   "execution_count": 122,
   "id": "50cbb40a",
   "metadata": {},
   "outputs": [
    {
     "name": "stdout",
     "output_type": "stream",
     "text": [
      "x=1\n",
      "n=4\n",
      "-1.0833333333333333\n"
     ]
    }
   ],
   "source": [
    "# for 25\n",
    "x=int(input('x='))\n",
    "n=int(input('n='))\n",
    "s=x\n",
    "p=1\n",
    "for i in range(1,n+1):\n",
    "    p=-1\n",
    "    s+=p*x**i/i\n",
    "print(s)"
   ]
  },
  {
   "cell_type": "code",
   "execution_count": 128,
   "id": "434d16bc",
   "metadata": {},
   "outputs": [
    {
     "name": "stdout",
     "output_type": "stream",
     "text": [
      "n=3\n",
      "x=2\n",
      "-25.35238095238095\n"
     ]
    }
   ],
   "source": [
    "# for 26\n",
    "x=int(input('x='))\n",
    "n=int(input('n='))\n",
    "s=x\n",
    "p=1\n",
    "for i in range(3,2*n+2,2):\n",
    "    p=-1\n",
    "    s+=p*x**i/i\n",
    "print(s)"
   ]
  },
  {
   "cell_type": "code",
   "execution_count": 179,
   "id": "82f465bd",
   "metadata": {},
   "outputs": [
    {
     "name": "stdout",
     "output_type": "stream",
     "text": [
      "x=2\n",
      "n=1\n",
      "4.666666666666666\n"
     ]
    }
   ],
   "source": [
    "# for 27 \n",
    "x=int(input('x='))\n",
    "n=int(input('n='))\n",
    "t=1\n",
    "p=1\n",
    "s=x\n",
    "for i in range(3,2*n+2,2):   \n",
    "    s+=x**i/i\n",
    "print(s)"
   ]
  },
  {
   "cell_type": "code",
   "execution_count": null,
   "id": "bf5414a7",
   "metadata": {},
   "outputs": [],
   "source": [
    "# for 28 ??????????????><????\n",
    "x=int(input('x='))\n",
    "n=int(input('n='))\n",
    "s=x\n",
    "p=1\n",
    "for i in range(3,2*n+2,2):\n",
    "    p=-1\n",
    "    s+=p*x**i/i\n",
    "print(s)"
   ]
  },
  {
   "cell_type": "code",
   "execution_count": 143,
   "id": "11104288",
   "metadata": {},
   "outputs": [
    {
     "name": "stdout",
     "output_type": "stream",
     "text": [
      "a=10\n",
      "b=20\n",
      "n=3\n",
      "57.56428571428571\n",
      "60.897619047619045\n"
     ]
    }
   ],
   "source": [
    "# for 29?????????????????\n",
    "a=int(input('a='))\n",
    "b=int(input('b='))\n",
    "n=int(input('n='))\n",
    "A=(b-a)/n\n",
    "for i in range(n-1):\n",
    "    s+=A\n",
    "    print(s)"
   ]
  },
  {
   "cell_type": "code",
   "execution_count": null,
   "id": "0f1c329b",
   "metadata": {},
   "outputs": [],
   "source": [
    "# for 30??????????????????\n",
    "a=int(input('a='))\n",
    "b=int(input('b='))\n",
    "n=int(input('n='))\n",
    "A=(b-a)/n\n",
    "for i in range(n-1):\n",
    "    s+=A\n",
    "    print(s)"
   ]
  },
  {
   "cell_type": "code",
   "execution_count": 145,
   "id": "9b1408bb",
   "metadata": {},
   "outputs": [
    {
     "name": "stdout",
     "output_type": "stream",
     "text": [
      "n=2\n",
      "2.5\n"
     ]
    }
   ],
   "source": [
    "# for 31\n",
    "n=int(input('n='))\n",
    "a0=2\n",
    "for i in range(1,n+1):\n",
    "    an=a0\n",
    "    an=2+1/a0\n",
    "print(an)"
   ]
  },
  {
   "cell_type": "code",
   "execution_count": 146,
   "id": "9bdac9e0",
   "metadata": {},
   "outputs": [
    {
     "name": "stdout",
     "output_type": "stream",
     "text": [
      "n=2\n",
      "1.0\n"
     ]
    }
   ],
   "source": [
    "# for 32\n",
    "n=int(input('n='))\n",
    "a0=1\n",
    "for i in range(1,n+1):\n",
    "    an=a0\n",
    "    an=(a0+1)/i\n",
    "print(an)"
   ]
  },
  {
   "cell_type": "code",
   "execution_count": null,
   "id": "9b18fb22",
   "metadata": {},
   "outputs": [],
   "source": [
    "# for 33  ?????????????????\n",
    "n=int(input('n='))\n",
    "f1=1\n",
    "f2=1\n",
    "for i in range(3,n+1):\n",
    "    fn=f\n",
    "    an=(a0+1)/i\n",
    "print(an)"
   ]
  },
  {
   "cell_type": "code",
   "execution_count": 147,
   "id": "8a7345e8",
   "metadata": {},
   "outputs": [
    {
     "name": "stdout",
     "output_type": "stream",
     "text": [
      "n=5\n",
      "-5.666666666666667\n"
     ]
    }
   ],
   "source": [
    "# for 34\n",
    "n=int(input('n='))\n",
    "a1=1\n",
    "a2=2\n",
    "for i in range(1,n+1):\n",
    "    an=((an-a2)+2*(an-a1))/3\n",
    "print(an)"
   ]
  },
  {
   "cell_type": "code",
   "execution_count": 151,
   "id": "8a38b39d",
   "metadata": {},
   "outputs": [
    {
     "name": "stdout",
     "output_type": "stream",
     "text": [
      "n=6\n",
      "3\n"
     ]
    }
   ],
   "source": [
    "# for 35\n",
    "n=int(input('n='))\n",
    "a1=1\n",
    "a2=2\n",
    "a3=3\n",
    "for i in range(4,n+1):\n",
    "    an=(an-a1)+(an-a2)-2*(an-a3)\n",
    "print(an)"
   ]
  },
  {
   "cell_type": "code",
   "execution_count": 154,
   "id": "2c5459b6",
   "metadata": {},
   "outputs": [
    {
     "name": "stdout",
     "output_type": "stream",
     "text": [
      "n=5\n",
      "k=6\n",
      "20515\n"
     ]
    }
   ],
   "source": [
    "# for 36\n",
    "n=int(input('n='))\n",
    "k=int(input('k='))\n",
    "s=0\n",
    "for i in range(1,n+1):\n",
    "    s+=i**k\n",
    "print(s)"
   ]
  },
  {
   "cell_type": "code",
   "execution_count": 161,
   "id": "1ac09f57",
   "metadata": {},
   "outputs": [
    {
     "name": "stdout",
     "output_type": "stream",
     "text": [
      "n=4\n",
      "288\n"
     ]
    }
   ],
   "source": [
    "# for 37\n",
    "n=int(input('n='))\n",
    "s=0\n",
    "for i in range(1,n+1):\n",
    "    n=i\n",
    "    s+=i**n\n",
    "print(s)"
   ]
  },
  {
   "cell_type": "code",
   "execution_count": 173,
   "id": "d6bd8b70",
   "metadata": {},
   "outputs": [
    {
     "name": "stdout",
     "output_type": "stream",
     "text": [
      "n=5\n",
      "24\n"
     ]
    }
   ],
   "source": [
    "# for 38 ???????????????\n",
    "n=int(input('n='))\n",
    "s=1\n",
    "for i in range(1,n+1):\n",
    "    s+=i**(n-i)\n",
    "print(s)"
   ]
  },
  {
   "cell_type": "code",
   "execution_count": 177,
   "id": "bba2b233",
   "metadata": {},
   "outputs": [
    {
     "name": "stdout",
     "output_type": "stream",
     "text": [
      "a=2\n",
      "b=6\n",
      "9\n",
      "16\n",
      "25\n"
     ]
    }
   ],
   "source": [
    "# for 39\n",
    "a=int(input('a='))\n",
    "b=int(input('b='))\n",
    "    print()"
   ]
  },
  {
   "cell_type": "code",
   "execution_count": null,
   "id": "a196979b",
   "metadata": {},
   "outputs": [],
   "source": [
    "# for 40\n",
    "a=int(input('a='))\n",
    "b=int(input('b='))\n",
    "    print()"
   ]
  }
 ],
 "metadata": {
  "kernelspec": {
   "display_name": "Python 3 (ipykernel)",
   "language": "python",
   "name": "python3"
  },
  "language_info": {
   "codemirror_mode": {
    "name": "ipython",
    "version": 3
   },
   "file_extension": ".py",
   "mimetype": "text/x-python",
   "name": "python",
   "nbconvert_exporter": "python",
   "pygments_lexer": "ipython3",
   "version": "3.9.8"
  }
 },
 "nbformat": 4,
 "nbformat_minor": 5
}
