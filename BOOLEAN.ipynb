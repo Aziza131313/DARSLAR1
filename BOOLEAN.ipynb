{
 "cells": [
  {
   "cell_type": "markdown",
   "id": "df0c4487",
   "metadata": {},
   "source": [
    "#  boolean "
   ]
  },
  {
   "cell_type": "code",
   "execution_count": 1,
   "id": "292362eb",
   "metadata": {},
   "outputs": [
    {
     "name": "stdout",
     "output_type": "stream",
     "text": [
      "a=1\n",
      "True\n"
     ]
    }
   ],
   "source": [
    "a=int(input('a='))\n",
    "print(a>0)"
   ]
  },
  {
   "cell_type": "code",
   "execution_count": 2,
   "id": "34186a05",
   "metadata": {},
   "outputs": [
    {
     "name": "stdout",
     "output_type": "stream",
     "text": [
      "a=2\n",
      "False\n"
     ]
    }
   ],
   "source": [
    "a=int(input('a='))\n",
    "print(a%2==1)"
   ]
  },
  {
   "cell_type": "code",
   "execution_count": 3,
   "id": "5ff91857",
   "metadata": {},
   "outputs": [
    {
     "name": "stdout",
     "output_type": "stream",
     "text": [
      "a=3\n",
      "False\n"
     ]
    }
   ],
   "source": [
    "a=int(input('a='))\n",
    "print(a%2==0)"
   ]
  },
  {
   "cell_type": "code",
   "execution_count": 4,
   "id": "28ea5d0b",
   "metadata": {},
   "outputs": [
    {
     "name": "stdout",
     "output_type": "stream",
     "text": [
      "a=4\n",
      "b=5\n",
      "False\n"
     ]
    }
   ],
   "source": [
    "a=int(input('a='))\n",
    "b=int(input('b='))\n",
    "print(a>2 and b<=3)"
   ]
  },
  {
   "cell_type": "code",
   "execution_count": 5,
   "id": "2ae5b97a",
   "metadata": {},
   "outputs": [
    {
     "name": "stdout",
     "output_type": "stream",
     "text": [
      "a=6\n",
      "b=4\n",
      "True\n"
     ]
    }
   ],
   "source": [
    "a=int(input('a='))\n",
    "b=int(input('b='))\n",
    "print(a>=0  or  b<-2)"
   ]
  },
  {
   "cell_type": "code",
   "execution_count": 6,
   "id": "30b7410f",
   "metadata": {},
   "outputs": [
    {
     "name": "stdout",
     "output_type": "stream",
     "text": [
      "a=5\n",
      "b=2\n",
      "c=1\n",
      "False\n"
     ]
    }
   ],
   "source": [
    "a=int(input('a='))\n",
    "b=int(input('b='))\n",
    "c=int(input('c='))\n",
    "print(a<=b<=c)"
   ]
  },
  {
   "cell_type": "code",
   "execution_count": 7,
   "id": "5906b8f9",
   "metadata": {},
   "outputs": [
    {
     "name": "stdout",
     "output_type": "stream",
     "text": [
      "a=2\n",
      "b=2\n",
      "c=4\n",
      "False\n"
     ]
    }
   ],
   "source": [
    "a=int(input('a='))\n",
    "b=int(input('b='))\n",
    "c=int(input('c='))\n",
    "print(a<b<c)"
   ]
  },
  {
   "cell_type": "code",
   "execution_count": 8,
   "id": "174f8b7d",
   "metadata": {},
   "outputs": [
    {
     "name": "stdout",
     "output_type": "stream",
     "text": [
      "a=5\n",
      "b=5\n",
      "True\n"
     ]
    }
   ],
   "source": [
    "a=int(input('a='))\n",
    "b=int(input('b='))\n",
    "print(a%2==1 and b%2==1)"
   ]
  },
  {
   "cell_type": "code",
   "execution_count": 9,
   "id": "d8f75db7",
   "metadata": {},
   "outputs": [
    {
     "name": "stdout",
     "output_type": "stream",
     "text": [
      "a=2\n",
      "b=1\n",
      "True\n"
     ]
    }
   ],
   "source": [
    "a=int(input('a='))\n",
    "b=int(input('b='))\n",
    "print(a%2==1 and b%2==0 or a%2==0 and b%2==1 )"
   ]
  },
  {
   "cell_type": "code",
   "execution_count": 10,
   "id": "f082bfd2",
   "metadata": {},
   "outputs": [
    {
     "name": "stdout",
     "output_type": "stream",
     "text": [
      "a=2\n",
      "b=3\n",
      "True\n"
     ]
    }
   ],
   "source": [
    "a=int(input('a='))\n",
    "b=int(input('b='))\n",
    "print(a%2==0 and b%2==1 or a%2==1 and b%2==0)"
   ]
  },
  {
   "cell_type": "code",
   "execution_count": 11,
   "id": "67725f63",
   "metadata": {},
   "outputs": [
    {
     "name": "stdout",
     "output_type": "stream",
     "text": [
      "a=4\n",
      "b=5\n",
      "False\n"
     ]
    }
   ],
   "source": [
    "a=int(input('a='))\n",
    "b=int(input('b='))\n",
    "print(a%2==0 and b%2==0 or a%2==1 and b%2==1)"
   ]
  },
  {
   "cell_type": "code",
   "execution_count": 12,
   "id": "871028ad",
   "metadata": {},
   "outputs": [
    {
     "name": "stdout",
     "output_type": "stream",
     "text": [
      "a=6\n",
      "b=1\n",
      "c=2\n",
      "False\n"
     ]
    }
   ],
   "source": [
    "a=int(input('a='))\n",
    "b=int(input('b='))\n",
    "c=int(input('c='))\n",
    "print(a>0 and b<0 and c<0 or a<0 and b>0 and c<0 or a<0 and b<0 and c>0)"
   ]
  },
  {
   "cell_type": "code",
   "execution_count": 13,
   "id": "bb0f4338",
   "metadata": {},
   "outputs": [
    {
     "name": "stdout",
     "output_type": "stream",
     "text": [
      "a=3\n",
      "b=4\n",
      "c=5\n",
      "False\n"
     ]
    }
   ],
   "source": [
    "a=int(input('a='))\n",
    "b=int(input('b='))\n",
    "c=int(input('c='))                                                            \n",
    "print(a>0 and b<0 and c<0 or a<0 and b>0 and c<0 or a<0 and b<0 and c>0)"
   ]
  },
  {
   "cell_type": "code",
   "execution_count": 14,
   "id": "330fcf8c",
   "metadata": {},
   "outputs": [
    {
     "name": "stdout",
     "output_type": "stream",
     "text": [
      "a=1\n",
      "b=2\n",
      "c=3\n",
      "False\n"
     ]
    }
   ],
   "source": [
    "a=int(input('a='))\n",
    "b=int(input('b='))\n",
    "c=int(input('c='))                                                            \n",
    "print(a>0 and b<0 and c<0 or a<0 and b>0 and c<0 or a<0 and b<0 and c>0)"
   ]
  },
  {
   "cell_type": "code",
   "execution_count": 15,
   "id": "37346128",
   "metadata": {},
   "outputs": [
    {
     "name": "stdout",
     "output_type": "stream",
     "text": [
      "a=4\n",
      "b=5\n",
      "c=1\n",
      "False\n"
     ]
    }
   ],
   "source": [
    "a=int(input('a='))\n",
    "b=int(input('b='))\n",
    "c=int(input('c='))                                                            \n",
    "print(a>0 and b>0 and c<0 or a<0 and b>0 and c>0 or a>0 and b<0 and c>0)"
   ]
  },
  {
   "cell_type": "code",
   "execution_count": 16,
   "id": "dd23f9b1",
   "metadata": {},
   "outputs": [
    {
     "name": "stdout",
     "output_type": "stream",
     "text": [
      "a=2\n",
      "True\n"
     ]
    }
   ],
   "source": [
    "a=int(input('a='))\n",
    "on=a//10\n",
    "bi=a%10\n",
    "print(a>0 and a%2==0)"
   ]
  },
  {
   "cell_type": "code",
   "execution_count": 17,
   "id": "19067796",
   "metadata": {},
   "outputs": [
    {
     "name": "stdout",
     "output_type": "stream",
     "text": [
      "a=2\n",
      "False\n"
     ]
    }
   ],
   "source": [
    "a=int(input('a='))\n",
    "yu=a//100\n",
    "on=a%100//10\n",
    "bi=a%10\n",
    "print(a%2==1)"
   ]
  },
  {
   "cell_type": "code",
   "execution_count": 18,
   "id": "e4bb4379",
   "metadata": {},
   "outputs": [
    {
     "name": "stdout",
     "output_type": "stream",
     "text": [
      "a=1\n",
      "b=2\n",
      "c=3\n",
      "False\n"
     ]
    }
   ],
   "source": [
    "a=int(input('a='))\n",
    "b=int(input('b='))\n",
    "c=int(input('c='))\n",
    "print(a==b and a!=c or b==c and b!=a or c==a and c!=b)"
   ]
  },
  {
   "cell_type": "code",
   "execution_count": 19,
   "id": "0225f6bc",
   "metadata": {},
   "outputs": [
    {
     "name": "stdout",
     "output_type": "stream",
     "text": [
      "a=4\n",
      "b=-5\n",
      "c=4\n",
      "False\n"
     ]
    }
   ],
   "source": [
    "a=int(input('a='))\n",
    "b=int(input('b='))\n",
    "c=int(input('c='))\n",
    "print(a==-b and a!=c or b==-c and b!=a or c==-a and c!=b)"
   ]
  },
  {
   "cell_type": "code",
   "execution_count": 43,
   "id": "ff73e6f2",
   "metadata": {},
   "outputs": [
    {
     "name": "stdout",
     "output_type": "stream",
     "text": [
      "a=123\n",
      "True\n"
     ]
    }
   ],
   "source": [
    "a=int(input('a='))\n",
    "yuz=a//100\n",
    "on=a//100%10\n",
    "bi=a%10\n",
    "print(yuz==on and on!=bi and bi!=yuz)"
   ]
  },
  {
   "cell_type": "code",
   "execution_count": 21,
   "id": "b8a22d71",
   "metadata": {},
   "outputs": [
    {
     "name": "stdout",
     "output_type": "stream",
     "text": [
      "a=123\n",
      "True\n"
     ]
    }
   ],
   "source": [
    "a=int(input('a='))\n",
    "yu=a//100\n",
    "on=a%100//10\n",
    "bi=a%10\n",
    "print(yu<on<bi)"
   ]
  },
  {
   "cell_type": "code",
   "execution_count": 22,
   "id": "dfc9e982",
   "metadata": {},
   "outputs": [
    {
     "name": "stdout",
     "output_type": "stream",
     "text": [
      "a=321\n",
      "True\n"
     ]
    }
   ],
   "source": [
    "a=int(input('a='))\n",
    "yu=a//100\n",
    "on=a%100//10\n",
    "bi=a%10\n",
    "print(yu<on<bi or yu>on>bi)"
   ]
  },
  {
   "cell_type": "code",
   "execution_count": 23,
   "id": "3ec73d5d",
   "metadata": {},
   "outputs": [
    {
     "name": "stdout",
     "output_type": "stream",
     "text": [
      "a=121\n",
      "True\n"
     ]
    }
   ],
   "source": [
    "a=int(input('a='))\n",
    "yu=a//100\n",
    "on=a%100//10\n",
    "bi=a%10\n",
    "print(yu==bi and yu!=on )"
   ]
  },
  {
   "cell_type": "code",
   "execution_count": 24,
   "id": "f6f6b9d0",
   "metadata": {},
   "outputs": [
    {
     "name": "stdout",
     "output_type": "stream",
     "text": [
      "a=4\n",
      "b=6\n",
      "c=1\n",
      "True\n"
     ]
    }
   ],
   "source": [
    "a=int(input('a='))\n",
    "b=int(input('b='))\n",
    "c=int(input('c='))\n",
    "d=b**2-4*a*c\n",
    "print(a!=0 and d>=0)"
   ]
  },
  {
   "cell_type": "code",
   "execution_count": 25,
   "id": "a3e523c2",
   "metadata": {},
   "outputs": [
    {
     "name": "stdout",
     "output_type": "stream",
     "text": [
      "x=-2\n",
      "y=1\n",
      "True\n"
     ]
    }
   ],
   "source": [
    "x=int(input('x='))\n",
    "y=int(input('y='))\n",
    "print(x<0 and y>0)"
   ]
  },
  {
   "cell_type": "code",
   "execution_count": 26,
   "id": "cc4eca70",
   "metadata": {},
   "outputs": [
    {
     "name": "stdout",
     "output_type": "stream",
     "text": [
      "x=1\n",
      "y=2\n",
      "False\n"
     ]
    }
   ],
   "source": [
    "x=int(input('x='))\n",
    "y=int(input('y='))\n",
    "print(x>0 and y<0)"
   ]
  },
  {
   "cell_type": "code",
   "execution_count": 27,
   "id": "4040a5f2",
   "metadata": {},
   "outputs": [
    {
     "name": "stdout",
     "output_type": "stream",
     "text": [
      "x=4\n",
      "y=5\n",
      "False\n"
     ]
    }
   ],
   "source": [
    "x=int(input('x='))\n",
    "y=int(input('y='))\n",
    "print(x<0 and y>0 or x<0 and y<0)"
   ]
  },
  {
   "cell_type": "code",
   "execution_count": 28,
   "id": "93c47445",
   "metadata": {},
   "outputs": [
    {
     "name": "stdout",
     "output_type": "stream",
     "text": [
      "x=1\n",
      "y=2\n",
      "True\n"
     ]
    }
   ],
   "source": [
    "x=int(input('x='))\n",
    "y=int(input('y='))\n",
    "print(x>0 and y>0 or x<0 and y<0)"
   ]
  },
  {
   "cell_type": "code",
   "execution_count": 29,
   "id": "d8b3d016",
   "metadata": {},
   "outputs": [
    {
     "name": "stdout",
     "output_type": "stream",
     "text": [
      "x=1\n",
      "y=2\n",
      "x1=4\n",
      "y1=5\n",
      "x2=7\n",
      "y2=1\n",
      "0\n"
     ]
    }
   ],
   "source": [
    "x=int(input('x='))\n",
    "y=int(input('y='))\n",
    "x1=int(input('x1='))\n",
    "y1=int(input('y1='))\n",
    "x2=int(input('x2='))\n",
    "y2=int(input('y2='))\n",
    "print(x//x1 and y//y1 and x//x2 and y//y2)"
   ]
  },
  {
   "cell_type": "code",
   "execution_count": 30,
   "id": "00f26492",
   "metadata": {},
   "outputs": [
    {
     "name": "stdout",
     "output_type": "stream",
     "text": [
      "a=1\n",
      "b=2\n",
      "c=1\n",
      "False\n"
     ]
    }
   ],
   "source": [
    "a=int(input('a='))\n",
    "b=int(input('b='))\n",
    "c=int(input('c='))\n",
    "print(a==b==c==a)"
   ]
  },
  {
   "cell_type": "code",
   "execution_count": 31,
   "id": "36afdb33",
   "metadata": {},
   "outputs": [
    {
     "name": "stdout",
     "output_type": "stream",
     "text": [
      "a=1\n",
      "b=2\n",
      "c=1\n",
      "True\n"
     ]
    }
   ],
   "source": [
    "a=int(input('a='))\n",
    "b=int(input('b='))\n",
    "c=int(input('c='))\n",
    "print(a==b!=c or a==c!=b or a!=b==c)"
   ]
  },
  {
   "cell_type": "code",
   "execution_count": 32,
   "id": "0cf6e939",
   "metadata": {},
   "outputs": [
    {
     "name": "stdout",
     "output_type": "stream",
     "text": [
      "a=12\n",
      "b=1\n",
      "c=3\n",
      "True\n"
     ]
    }
   ],
   "source": [
    "a=int(input('a='))\n",
    "b=int(input('b='))\n",
    "c=int(input('c=')) \n",
    "\n",
    "print(a>0 and b>0 and c>a or c>b)"
   ]
  },
  {
   "cell_type": "code",
   "execution_count": 33,
   "id": "3d5a614f",
   "metadata": {},
   "outputs": [
    {
     "name": "stdout",
     "output_type": "stream",
     "text": [
      "a=1\n",
      "b=2\n",
      "c=4\n",
      "False\n"
     ]
    }
   ],
   "source": [
    "a=int(input('a='))\n",
    "b=int(input('b='))\n",
    "c=int(input('c='))                                                            \n",
    "print(a<c+b or b<a+c or c<a+b)"
   ]
  },
  {
   "cell_type": "code",
   "execution_count": 34,
   "id": "db154ab9",
   "metadata": {},
   "outputs": [
    {
     "name": "stdout",
     "output_type": "stream",
     "text": [
      "x=1\n",
      "y=2\n",
      "True\n"
     ]
    }
   ],
   "source": [
    "x=int(input('x='))\n",
    "y=int(input('y='))\n",
    "print(x%2==1 and y%2==0 or x%2==0 and y%2==1)"
   ]
  },
  {
   "cell_type": "code",
   "execution_count": 35,
   "id": "77ff143d",
   "metadata": {},
   "outputs": [
    {
     "name": "stdout",
     "output_type": "stream",
     "text": [
      "x1=1\n",
      "y1=2\n",
      "x2=3\n",
      "y2=1\n",
      "False\n"
     ]
    }
   ],
   "source": [
    "x1=int(input('x1='))\n",
    "y1=int(input('y1='))\n",
    "x2=int(input('x2='))\n",
    "y2=int(input('y2='))\n",
    "print(not((x1+y1)%2==1 and (x2+y2)%2==0))"
   ]
  },
  {
   "cell_type": "code",
   "execution_count": 36,
   "id": "79cc1e85",
   "metadata": {},
   "outputs": [
    {
     "name": "stdout",
     "output_type": "stream",
     "text": [
      "x1=1\n",
      "y1=2\n",
      "x2=2\n",
      "y2=4\n",
      "False\n"
     ]
    }
   ],
   "source": [
    "x1=int(input('x1='))\n",
    "y1=int(input('y1='))\n",
    "x2=int(input('x2='))\n",
    "y2=int(input('y2='))\n",
    "print(x1==x2 or y1==y2)"
   ]
  },
  {
   "cell_type": "code",
   "execution_count": 37,
   "id": "35b006c6",
   "metadata": {},
   "outputs": [
    {
     "name": "stdout",
     "output_type": "stream",
     "text": [
      "x1=4\n",
      "y1=5\n",
      "x2=2\n",
      "y2=1\n",
      "False\n"
     ]
    }
   ],
   "source": [
    "x1=int(input('x1='))\n",
    "y1=int(input('y1='))\n",
    "x2=int(input('x2='))\n",
    "y2=int(input('y2='))\n",
    "print(abs(x1-x2)==2 and abs(y1-y2)==1 or abs(x1-x2)==1 and abs(y1-y2)==2)"
   ]
  },
  {
   "cell_type": "code",
   "execution_count": 38,
   "id": "31cd4380",
   "metadata": {},
   "outputs": [
    {
     "name": "stdout",
     "output_type": "stream",
     "text": [
      "x1=1\n",
      "y1=2\n",
      "x2=1\n",
      "y2=2\n",
      "True\n"
     ]
    }
   ],
   "source": [
    "x1=int(input('x1='))\n",
    "y1=int(input('y1='))\n",
    "x2=int(input('x2='))\n",
    "y2=int(input('y2='))\n",
    "print((x2-x1)==(y2-y1))"
   ]
  },
  {
   "cell_type": "code",
   "execution_count": 39,
   "id": "89bf2b50",
   "metadata": {},
   "outputs": [
    {
     "name": "stdout",
     "output_type": "stream",
     "text": [
      "x1=1\n",
      "y1=2\n",
      "x2=3\n",
      "y2=4\n",
      "True\n"
     ]
    }
   ],
   "source": [
    "x1=int(input('x1='))\n",
    "y1=int(input('y1='))\n",
    "x2=int(input('x2='))\n",
    "y2=int(input('y2='))\n",
    "print(x1==x2 or y1==y2 or abs(x1-x2)==abs(y1-y2))\n"
   ]
  },
  {
   "cell_type": "code",
   "execution_count": 40,
   "id": "d6ec66b7",
   "metadata": {},
   "outputs": [
    {
     "name": "stdout",
     "output_type": "stream",
     "text": [
      "x1=4\n",
      "y1=2\n",
      "x2=4\n",
      "y2=2\n",
      "False\n"
     ]
    }
   ],
   "source": [
    "x1=int(input('x1='))\n",
    "y1=int(input('y1='))\n",
    "x2=int(input('x2='))\n",
    "y2=int(input('y2='))\n",
    "print(abs(x1-x2)==2 and abs(y1-y2)==1 or abs(y1-y2)==2 and abs(x1-x2)==1)"
   ]
  },
  {
   "cell_type": "code",
   "execution_count": null,
   "id": "605e78d1",
   "metadata": {},
   "outputs": [],
   "source": []
  }
 ],
 "metadata": {
  "kernelspec": {
   "display_name": "Python 3 (ipykernel)",
   "language": "python",
   "name": "python3"
  },
  "language_info": {
   "codemirror_mode": {
    "name": "ipython",
    "version": 3
   },
   "file_extension": ".py",
   "mimetype": "text/x-python",
   "name": "python",
   "nbconvert_exporter": "python",
   "pygments_lexer": "ipython3",
   "version": "3.9.8"
  }
 },
 "nbformat": 4,
 "nbformat_minor": 5
}
