{
 "cells": [
  {
   "cell_type": "markdown",
   "id": "35c63cf0",
   "metadata": {},
   "source": [
    "#  uy ishi 1        Begin\n"
   ]
  },
  {
   "cell_type": "code",
   "execution_count": 1,
   "id": "a48b78c2",
   "metadata": {},
   "outputs": [
    {
     "name": "stdout",
     "output_type": "stream",
     "text": [
      "a=2\n",
      "8\n"
     ]
    }
   ],
   "source": [
    "a=int(input('a='))\n",
    "p=4*a\n",
    "print(p)"
   ]
  },
  {
   "cell_type": "code",
   "execution_count": 2,
   "id": "c3718716",
   "metadata": {},
   "outputs": [
    {
     "name": "stdout",
     "output_type": "stream",
     "text": [
      "a=3\n",
      "9\n"
     ]
    }
   ],
   "source": [
    "a=int(input('a='))\n",
    "s=a**2\n",
    "print(s)"
   ]
  },
  {
   "cell_type": "code",
   "execution_count": 3,
   "id": "16895699",
   "metadata": {},
   "outputs": [
    {
     "name": "stdout",
     "output_type": "stream",
     "text": [
      "a=4\n",
      "b=4\n",
      "16 16\n"
     ]
    }
   ],
   "source": [
    "a=int(input('a='))\n",
    "b=int(input('b='))\n",
    "s=a*b\n",
    "p=2*(a+b)\n",
    "print(s , p)"
   ]
  },
  {
   "cell_type": "code",
   "execution_count": 4,
   "id": "8c775d9e",
   "metadata": {},
   "outputs": [
    {
     "name": "stdout",
     "output_type": "stream",
     "text": [
      "d=4\n",
      "12.566370614359172\n"
     ]
    }
   ],
   "source": [
    "from math import pi\n",
    "d=int(input('d='))\n",
    "l=pi*d\n",
    "print(l)"
   ]
  },
  {
   "cell_type": "code",
   "execution_count": 5,
   "id": "2e9a7532",
   "metadata": {},
   "outputs": [
    {
     "name": "stdout",
     "output_type": "stream",
     "text": [
      "a=5\n",
      "125 150\n"
     ]
    }
   ],
   "source": [
    "a=int(input('a='))\n",
    "v=a**3\n",
    "s=6*(a**2)\n",
    "print(v,s)"
   ]
  },
  {
   "cell_type": "code",
   "execution_count": 6,
   "id": "2bd61e01",
   "metadata": {},
   "outputs": [
    {
     "name": "stdout",
     "output_type": "stream",
     "text": [
      "a=1\n",
      "b=2\n",
      "c=3\n",
      "6 22\n"
     ]
    }
   ],
   "source": [
    "a=int(input('a='))\n",
    "b=int(input('b='))\n",
    "c=int(input('c='))\n",
    "v=a*b*c\n",
    "s=2*(a*b+b*c+a*c)\n",
    "print(v ,s)"
   ]
  },
  {
   "cell_type": "code",
   "execution_count": 7,
   "id": "c991cd6f",
   "metadata": {},
   "outputs": [
    {
     "name": "stdout",
     "output_type": "stream",
     "text": [
      "r=5\n",
      "31.41592653589793 78.53981633974483\n"
     ]
    }
   ],
   "source": [
    "from math import pi\n",
    "r=int(input('r='))\n",
    "l=2*pi*r\n",
    "s=pi*r**2\n",
    "print(l ,s)"
   ]
  },
  {
   "cell_type": "code",
   "execution_count": 8,
   "id": "d21002a2",
   "metadata": {},
   "outputs": [
    {
     "name": "stdout",
     "output_type": "stream",
     "text": [
      "a=6\n",
      "b=5\n",
      "5.5\n"
     ]
    }
   ],
   "source": [
    "a=int(input('a='))\n",
    "b=int(input('b='))\n",
    "print((a+b)/2)\n"
   ]
  },
  {
   "cell_type": "code",
   "execution_count": 9,
   "id": "6c5f35e2",
   "metadata": {},
   "outputs": [
    {
     "name": "stdout",
     "output_type": "stream",
     "text": [
      "a=4\n",
      "b=5\n",
      "4.47213595499958\n"
     ]
    }
   ],
   "source": [
    "a=int(input('a='))\n",
    "b=int(input('b='))\n",
    "print(abs((a*b)**0.5))\n"
   ]
  },
  {
   "cell_type": "code",
   "execution_count": 10,
   "id": "31fe9326",
   "metadata": {},
   "outputs": [
    {
     "name": "stdout",
     "output_type": "stream",
     "text": [
      "a=4\n",
      "b=5\n",
      "9 20 16 25\n"
     ]
    }
   ],
   "source": [
    "a=int(input('a='))\n",
    "b=int(input('b='))\n",
    "print(a+b ,a*b ,a**2 ,b**2)"
   ]
  },
  {
   "cell_type": "code",
   "execution_count": 11,
   "id": "670ab467",
   "metadata": {},
   "outputs": [
    {
     "name": "stdout",
     "output_type": "stream",
     "text": [
      "a=4\n",
      "b=5\n",
      "9 20 4 5\n"
     ]
    }
   ],
   "source": [
    "a=int(input('a='))\n",
    "b=int(input('b='))\n",
    "print(a+b ,a*b ,abs(a) ,abs(b))"
   ]
  },
  {
   "cell_type": "code",
   "execution_count": 12,
   "id": "656b5dcc",
   "metadata": {},
   "outputs": [
    {
     "name": "stdout",
     "output_type": "stream",
     "text": [
      "a=4\n",
      "b=5\n",
      "6.4031242374328485 12\n"
     ]
    }
   ],
   "source": [
    "a=int(input('a='))\n",
    "b=int(input('b='))\n",
    "print((a**2+b**2)**0.5  ,(a+b+c))"
   ]
  },
  {
   "cell_type": "code",
   "execution_count": 13,
   "id": "22e7e8b0",
   "metadata": {},
   "outputs": [
    {
     "name": "stdout",
     "output_type": "stream",
     "text": [
      "r1=4\n",
      "r2=5\n",
      "12.566370614359172 15.707963267948966 -3.141592653589793\n"
     ]
    }
   ],
   "source": [
    "from math import pi\n",
    "r1=int(input('r1='))\n",
    "r2=int(input('r2='))\n",
    "s1=pi*r1\n",
    "s2=pi*r2\n",
    "s3=pi*(r1-r2)\n",
    "print(s1 ,s2 ,s3)"
   ]
  },
  {
   "cell_type": "code",
   "execution_count": 14,
   "id": "38b93905",
   "metadata": {},
   "outputs": [
    {
     "name": "stdout",
     "output_type": "stream",
     "text": [
      "l=4\n",
      "5 78.53981633974483\n"
     ]
    }
   ],
   "source": [
    "from math import pi\n",
    "l=int(input('l='))\n",
    "l=2*pi*r\n",
    "s=pi*r**2\n",
    "print(r  ,s)"
   ]
  },
  {
   "cell_type": "code",
   "execution_count": 15,
   "id": "aaee4b61",
   "metadata": {},
   "outputs": [
    {
     "name": "stdout",
     "output_type": "stream",
     "text": [
      "s=5\n",
      "4 5\n"
     ]
    }
   ],
   "source": [
    "from math import pi\n",
    "s=int(input('s='))\n",
    "l=2*pi*r\n",
    "s=pi*r**2\n",
    "print(d  ,r)"
   ]
  },
  {
   "cell_type": "code",
   "execution_count": 16,
   "id": "16a1dff4",
   "metadata": {},
   "outputs": [
    {
     "name": "stdout",
     "output_type": "stream",
     "text": [
      "x1=4\n",
      "x2=5\n",
      "1\n"
     ]
    }
   ],
   "source": [
    "x1=int(input('x1='))\n",
    "x2=int(input('x2='))\n",
    "print(abs(x1-x2))"
   ]
  },
  {
   "cell_type": "code",
   "execution_count": 17,
   "id": "3b14ef4d",
   "metadata": {},
   "outputs": [
    {
     "name": "stdout",
     "output_type": "stream",
     "text": [
      "a=4\n",
      "b=5\n",
      "c=4\n",
      "0 -1 -1\n"
     ]
    }
   ],
   "source": [
    "a=int(input('a='))\n",
    "b=int(input('b='))\n",
    "c=int(input('c='))\n",
    "print(c-a ,c-b ,(c-a)+(c-b))"
   ]
  },
  {
   "cell_type": "code",
   "execution_count": 18,
   "id": "ce903e34",
   "metadata": {},
   "outputs": [
    {
     "name": "stdout",
     "output_type": "stream",
     "text": [
      "a=5\n",
      "b=4\n",
      "c=5\n",
      "0\n"
     ]
    }
   ],
   "source": [
    "a=int(input('a='))\n",
    "b=int(input('b='))\n",
    "c=int(input('c='))\n",
    "print((c-a)*(c-b) )"
   ]
  },
  {
   "cell_type": "code",
   "execution_count": 19,
   "id": "d134335f",
   "metadata": {},
   "outputs": [
    {
     "name": "stdout",
     "output_type": "stream",
     "text": [
      "x1=4\n",
      "y1=5\n",
      "x2=6\n",
      "y2=8\n",
      "10 6\n"
     ]
    }
   ],
   "source": [
    "x1=int(input('x1='))\n",
    "y1=int(input('y1='))\n",
    "x2=int(input('x2='))\n",
    "y2=int(input('y2='))\n",
    "p=2*((x2-x1)+(y2-y1))\n",
    "s=(x2-x1)*(y2-y1)\n",
    "print(p ,s)"
   ]
  },
  {
   "cell_type": "code",
   "execution_count": 20,
   "id": "708ca18b",
   "metadata": {},
   "outputs": [
    {
     "name": "stdout",
     "output_type": "stream",
     "text": [
      "x1=4\n",
      "y1=5\n",
      "x2=6\n",
      "y2=7\n",
      "(1.4998798865218462e-16+2.449489742783178j)\n"
     ]
    }
   ],
   "source": [
    "x1=int(input('x1='))\n",
    "y1=int(input('y1='))\n",
    "x2=int(input('x2='))\n",
    "y2=int(input('y2='))\n",
    "print(((x2-x1**2)+(y2-y1)**2)**0.5)\n",
    "                 "
   ]
  },
  {
   "cell_type": "code",
   "execution_count": 21,
   "id": "f038573d",
   "metadata": {},
   "outputs": [
    {
     "name": "stdout",
     "output_type": "stream",
     "text": [
      "x1=7\n",
      "x2=8\n",
      "y1=4\n",
      "y2=5\n",
      "x3=1\n",
      "y3=2\n",
      "7.677270994286882 27.429555970392897\n"
     ]
    }
   ],
   "source": [
    "x1=int(input('x1='))\n",
    "x2=int(input('x2='))\n",
    "y1=int(input('y1='))\n",
    "y2=int(input('y2='))\n",
    "x3=int(input('x3='))\n",
    "y3=int(input('y3='))\n",
    "a=((x2-x1)**2+(y2-y1)**2)**0.5\n",
    "b=((x2-x3)**2+(y2-y3)**2)**0.5\n",
    "c=((x3-x1)**2+(y3-y1)**2)**0.5\n",
    "print((a+b+c)/2 , (p*(p-a)*(p-b)*(p-c))**0.5)"
   ]
  },
  {
   "cell_type": "code",
   "execution_count": 22,
   "id": "1eba542f",
   "metadata": {},
   "outputs": [
    {
     "name": "stdout",
     "output_type": "stream",
     "text": [
      "a=1\n",
      "b=2\n",
      "2 1\n"
     ]
    }
   ],
   "source": [
    "a=int(input('a='))\n",
    "b=int(input('b='))\n",
    "a=a+b\n",
    "b=a-b\n",
    "a=a-b\n",
    "print(a,b)"
   ]
  },
  {
   "cell_type": "code",
   "execution_count": 23,
   "id": "8a6e3d90",
   "metadata": {},
   "outputs": [
    {
     "name": "stdout",
     "output_type": "stream",
     "text": [
      "a=1\n",
      "b=2\n",
      "c=3\n",
      "2 3 1\n"
     ]
    }
   ],
   "source": [
    "a=int(input('a='))\n",
    "b=int(input('b='))\n",
    "c=int(input('c='))\n",
    "a=a+b+c\n",
    "c=a-b-c\n",
    "b=a-c-b\n",
    "a=a-b-c\n",
    "print(a,b,c)"
   ]
  },
  {
   "cell_type": "code",
   "execution_count": 24,
   "id": "04ef9efd",
   "metadata": {},
   "outputs": [
    {
     "name": "stdout",
     "output_type": "stream",
     "text": [
      "a=1\n",
      "b=2\n",
      "c=3\n",
      "3 1 2\n"
     ]
    }
   ],
   "source": [
    "a=int(input('a='))\n",
    "b=int(input('b='))\n",
    "c=int(input('c='))\n",
    "a=a+b+c\n",
    "b=a-b-c\n",
    "c=a-b-c\n",
    "a=a-b-c\n",
    "print(a,b,c)"
   ]
  },
  {
   "cell_type": "code",
   "execution_count": 25,
   "id": "a0297258",
   "metadata": {},
   "outputs": [
    {
     "name": "stdout",
     "output_type": "stream",
     "text": [
      "x=1\n",
      "-10\n"
     ]
    }
   ],
   "source": [
    "x=int(input('x='))\n",
    "y=3*x**6-6*x**2-7 \n",
    "print(y)"
   ]
  },
  {
   "cell_type": "code",
   "execution_count": 26,
   "id": "ad13d859",
   "metadata": {},
   "outputs": [
    {
     "name": "stdout",
     "output_type": "stream",
     "text": [
      "x=2\n",
      "13\n"
     ]
    }
   ],
   "source": [
    "x=int(input('x='))\n",
    "y=4*(x-3)**6-7*(x-3)**3+2 \n",
    "print(y)"
   ]
  },
  {
   "cell_type": "code",
   "execution_count": 27,
   "id": "253e78fa",
   "metadata": {},
   "outputs": [
    {
     "name": "stdout",
     "output_type": "stream",
     "text": [
      "a=3\n",
      "9 81 6561\n"
     ]
    }
   ],
   "source": [
    "a=int(input('a='))\n",
    "print(a**2 ,a**4  ,a**8)"
   ]
  },
  {
   "cell_type": "code",
   "execution_count": 28,
   "id": "bf9e95e1",
   "metadata": {},
   "outputs": [
    {
     "name": "stdout",
     "output_type": "stream",
     "text": [
      "a=1\n",
      "1 1 1 1 1\n"
     ]
    }
   ],
   "source": [
    "a=int(input('a='))\n",
    "print(a**2 ,a**3  ,a**5 ,a**10  ,a**15)"
   ]
  },
  {
   "cell_type": "code",
   "execution_count": 29,
   "id": "e0beefea",
   "metadata": {},
   "outputs": [
    {
     "name": "stdout",
     "output_type": "stream",
     "text": [
      "gradus2\n",
      "0.03490658503988659\n"
     ]
    }
   ],
   "source": [
    "from math import *\n",
    "a=int(input('gradus'))\n",
    "radian=a/180*pi\n",
    "print(radian)"
   ]
  },
  {
   "cell_type": "code",
   "execution_count": 30,
   "id": "12570a7b",
   "metadata": {},
   "outputs": [
    {
     "name": "stdout",
     "output_type": "stream",
     "text": [
      "radian=1\n",
      "57.29577951308232\n"
     ]
    }
   ],
   "source": [
    "from math import *\n",
    "a=int(input('radian='))\n",
    "gradus=a/pi*180\n",
    "print(gradus)"
   ]
  },
  {
   "cell_type": "code",
   "execution_count": 31,
   "id": "b8bf891c",
   "metadata": {},
   "outputs": [
    {
     "name": "stdout",
     "output_type": "stream",
     "text": [
      "tf=2\n",
      "-16.666666666666668\n"
     ]
    }
   ],
   "source": [
    "tf=int(input('tf='))\n",
    "ts=(tf-32)*(5/9)\n",
    "print(ts)"
   ]
  },
  {
   "cell_type": "code",
   "execution_count": 32,
   "id": "96551a07",
   "metadata": {},
   "outputs": [
    {
     "name": "stdout",
     "output_type": "stream",
     "text": [
      "ts=1\n",
      "2\n"
     ]
    }
   ],
   "source": [
    "ts=int(int(input('ts=')))\n",
    "ts=(tf-32)*(5/9)\n",
    "print(tf)"
   ]
  },
  {
   "cell_type": "code",
   "execution_count": 33,
   "id": "ffa717eb",
   "metadata": {},
   "outputs": [
    {
     "name": "stdout",
     "output_type": "stream",
     "text": [
      "Kg = 2\n",
      "So'm= 1\n",
      "1 kg narxi = 0.5\n",
      "A kg kiriting = 1\n",
      "1 kg narxi = 0.5\n"
     ]
    }
   ],
   "source": [
    "X_kg = int(input('Kg = '))\n",
    "Y_som = int(input(\"So'm= \")) \n",
    "Kg_1 = Y_som/X_kg\n",
    "\n",
    "print('1 kg narxi =',Kg_1)\n",
    "\n",
    "A_kg = int(input('A kg kiriting = '))\n",
    "narx = A_kg * Kg_1\n",
    "\n",
    "print(A_kg,'kg narxi =',narx)"
   ]
  },
  {
   "cell_type": "code",
   "execution_count": 34,
   "id": "4da0e06d",
   "metadata": {},
   "outputs": [
    {
     "name": "stdout",
     "output_type": "stream",
     "text": [
      "x=kg2\n",
      "a=som1\n",
      "y=kg2\n",
      "b=som1\n",
      "kg_1shokolad= 0.5 kg_1konfet= 0.5 Natija= 0.0\n"
     ]
    }
   ],
   "source": [
    "x=int(input('x=kg'))\n",
    "a=int(input('a=som'))\n",
    "y=int(input('y=kg'))\n",
    "b=int(input('b=som'))\n",
    "kg_1shokolad=a/x\n",
    "kg_1konfet=b/y\n",
    "Natija=a/x-b/y\n",
    "print(\"kg_1shokolad=\",kg_1shokolad,\"kg_1konfet=\",kg_1konfet,\"Natija=\",Natija)"
   ]
  },
  {
   "cell_type": "code",
   "execution_count": 35,
   "id": "d68c6430",
   "metadata": {},
   "outputs": [
    {
     "name": "stdout",
     "output_type": "stream",
     "text": [
      "V=2\n",
      "U=1\n",
      "T1=2\n",
      "T2=1\n",
      "7\n"
     ]
    }
   ],
   "source": [
    "V=int(input('V='))\n",
    "U=int(input('U='))\n",
    "T1=int(input('T1='))\n",
    "T2=int(input('T2='))\n",
    "S1=(V+U)*T1\n",
    "S2=(V-U)*T2\n",
    "S3=(S1+S2)\n",
    "print(S3)\n"
   ]
  },
  {
   "cell_type": "code",
   "execution_count": 36,
   "id": "a88247b0",
   "metadata": {},
   "outputs": [
    {
     "name": "stdout",
     "output_type": "stream",
     "text": [
      "v1=2\n",
      "v2=1\n",
      "S=2\n",
      "t=1\n",
      "5\n"
     ]
    }
   ],
   "source": [
    "v1=int(input('v1='))\n",
    "v2=int(input('v2='))\n",
    "S=int(input('S='))\n",
    "t=int(input('t='))\n",
    "Sum=v1*t+v2*t+S\n",
    "print(Sum)"
   ]
  },
  {
   "cell_type": "code",
   "execution_count": 37,
   "id": "320dad79",
   "metadata": {},
   "outputs": [
    {
     "name": "stdout",
     "output_type": "stream",
     "text": [
      "v1=2\n",
      "v2=1\n",
      "S=2\n",
      "t=1\n",
      "-1\n"
     ]
    }
   ],
   "source": [
    "v1=int(input('v1='))\n",
    "v2=int(input('v2='))\n",
    "S=int(input('S='))\n",
    "t=int(input('t='))\n",
    "Sum=S-(v1*t+v2*t)\n",
    "print(Sum)"
   ]
  },
  {
   "cell_type": "code",
   "execution_count": 38,
   "id": "a95e1115",
   "metadata": {},
   "outputs": [
    {
     "name": "stdout",
     "output_type": "stream",
     "text": [
      "a=2\n",
      "b=1\n",
      "-0.5\n"
     ]
    }
   ],
   "source": [
    "a=int(input('a='))\n",
    "b=int(input('b='))\n",
    "X=-b/a\n",
    "print(X)"
   ]
  },
  {
   "cell_type": "code",
   "execution_count": 39,
   "id": "fa0c4bfe",
   "metadata": {},
   "outputs": [
    {
     "name": "stdout",
     "output_type": "stream",
     "text": [
      "a=2\n",
      "b=1\n",
      "c=2\n",
      "1.0 -3.0 -15\n"
     ]
    }
   ],
   "source": [
    "from math import *\n",
    "a=int(input('a='))\n",
    "b=int(input('b='))\n",
    "c=int(input('c='))\n",
    "x1=(-b+sqrt(d))/2*a\n",
    "x2=(-b-sqrt(d))/2*a\n",
    "d=b**2-4*a*c\n",
    "print(x1 , x2 , d)"
   ]
  },
  {
   "cell_type": "code",
   "execution_count": 40,
   "id": "55c633ef",
   "metadata": {},
   "outputs": [
    {
     "name": "stdout",
     "output_type": "stream",
     "text": [
      "a1=1\n",
      "b1=4\n",
      "c1=5\n",
      "a2=2\n",
      "b2=1\n",
      "c2=2\n",
      "0.42857142857142855 1.1428571428571428 -7\n"
     ]
    }
   ],
   "source": [
    "a1=int(input('a1='))\n",
    "b1=int(input('b1='))\n",
    "c1=int(input('c1='))\n",
    "a2=int(input('a2='))\n",
    "b2=int(input('b2='))\n",
    "c2=int(input('c2='))\n",
    "d=a1*b2-a2*b1\n",
    "x=(c1*b2-c2*b1)/d\n",
    "y=(a1*c2-a2*c1)/d\n",
    "\n",
    "print(x , y , d)"
   ]
  },
  {
   "cell_type": "code",
   "execution_count": null,
   "id": "3a1c644c",
   "metadata": {},
   "outputs": [],
   "source": []
  }
 ],
 "metadata": {
  "kernelspec": {
   "display_name": "Python 3 (ipykernel)",
   "language": "python",
   "name": "python3"
  },
  "language_info": {
   "codemirror_mode": {
    "name": "ipython",
    "version": 3
   },
   "file_extension": ".py",
   "mimetype": "text/x-python",
   "name": "python",
   "nbconvert_exporter": "python",
   "pygments_lexer": "ipython3",
   "version": "3.9.8"
  }
 },
 "nbformat": 4,
 "nbformat_minor": 5
}
