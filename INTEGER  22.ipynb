{
 "cells": [
  {
   "cell_type": "markdown",
   "id": "919544af",
   "metadata": {},
   "source": [
    "# integer "
   ]
  },
  {
   "cell_type": "code",
   "execution_count": 1,
   "id": "f45632f5",
   "metadata": {},
   "outputs": [
    {
     "name": "stdout",
     "output_type": "stream",
     "text": [
      "kg=4\n",
      "4\n"
     ]
    }
   ],
   "source": [
    "kg=int(input('kg='))\n",
    "t=kg//1000\n",
    "print(kg)"
   ]
  },
  {
   "cell_type": "code",
   "execution_count": 2,
   "id": "a60cb86e",
   "metadata": {},
   "outputs": [
    {
     "name": "stdout",
     "output_type": "stream",
     "text": [
      "b=4\n",
      "4\n"
     ]
    }
   ],
   "source": [
    "b=int(input('b='))\n",
    "kb=b//1024\n",
    "print(b)"
   ]
  },
  {
   "cell_type": "code",
   "execution_count": 3,
   "id": "75c157e6",
   "metadata": {},
   "outputs": [
    {
     "name": "stdout",
     "output_type": "stream",
     "text": [
      "l=4\n",
      "4\n"
     ]
    }
   ],
   "source": [
    "l=int(input('l='))\n",
    "metr=l//100\n",
    "print(l)"
   ]
  },
  {
   "cell_type": "code",
   "execution_count": 4,
   "id": "fe56549a",
   "metadata": {},
   "outputs": [
    {
     "name": "stdout",
     "output_type": "stream",
     "text": [
      "a=12\n",
      "b=3\n",
      "4\n"
     ]
    }
   ],
   "source": [
    "a=int(input('a='))\n",
    "b=int(input('b='))\n",
    "print(a//b)"
   ]
  },
  {
   "cell_type": "code",
   "execution_count": 5,
   "id": "5ab0495c",
   "metadata": {},
   "outputs": [
    {
     "name": "stdout",
     "output_type": "stream",
     "text": [
      "a=13\n",
      "b=2\n",
      "6 1\n"
     ]
    }
   ],
   "source": [
    "a=int(input('a='))\n",
    "b=int(input('b='))\n",
    "print(a//b, a%b)"
   ]
  },
  {
   "cell_type": "code",
   "execution_count": 6,
   "id": "0354aa9d",
   "metadata": {},
   "outputs": [
    {
     "name": "stdout",
     "output_type": "stream",
     "text": [
      "a=21\n",
      "2 1\n"
     ]
    }
   ],
   "source": [
    "a=int(input('a='))\n",
    "on=a//10\n",
    "bi=a%10\n",
    "print(on , bi)"
   ]
  },
  {
   "cell_type": "code",
   "execution_count": 7,
   "id": "d9686d3f",
   "metadata": {},
   "outputs": [
    {
     "name": "stdout",
     "output_type": "stream",
     "text": [
      "a=12\n",
      "3\n"
     ]
    }
   ],
   "source": [
    "a=int(input('a='))\n",
    "on=a//10\n",
    "bi=a%10\n",
    "print(on+bi)"
   ]
  },
  {
   "cell_type": "code",
   "execution_count": 8,
   "id": "f21e39cc",
   "metadata": {},
   "outputs": [
    {
     "name": "stdout",
     "output_type": "stream",
     "text": [
      "a=45\n",
      "54\n"
     ]
    }
   ],
   "source": [
    "a=int(input('a='))\n",
    "on=a//10\n",
    "bi=a%10\n",
    "print(on*1+bi*10)"
   ]
  },
  {
   "cell_type": "code",
   "execution_count": 9,
   "id": "0d64d72c",
   "metadata": {},
   "outputs": [
    {
     "name": "stdout",
     "output_type": "stream",
     "text": [
      "a=456\n",
      "4\n"
     ]
    }
   ],
   "source": [
    "a=int(input('a='))\n",
    "yu=a//100\n",
    "on=a%100//10\n",
    "bi=a%10\n",
    "print(yu)"
   ]
  },
  {
   "cell_type": "code",
   "execution_count": 10,
   "id": "d1b73d25",
   "metadata": {},
   "outputs": [
    {
     "name": "stdout",
     "output_type": "stream",
     "text": [
      "a=123\n",
      "3 2\n"
     ]
    }
   ],
   "source": [
    "a=int(input('a='))\n",
    "yu=a//100\n",
    "on=a%100//10\n",
    "bi=a%10\n",
    "print(bi ,on)\n"
   ]
  },
  {
   "cell_type": "code",
   "execution_count": 11,
   "id": "429e8a63",
   "metadata": {},
   "outputs": [
    {
     "name": "stdout",
     "output_type": "stream",
     "text": [
      "a=123\n",
      "6\n"
     ]
    }
   ],
   "source": [
    "a=int(input('a='))\n",
    "yu=a//100\n",
    "on=a%100//10\n",
    "bi=a%10\n",
    "print(yu+on+bi)"
   ]
  },
  {
   "cell_type": "code",
   "execution_count": 12,
   "id": "4fbb4b3d",
   "metadata": {},
   "outputs": [
    {
     "name": "stdout",
     "output_type": "stream",
     "text": [
      "a=456\n",
      "654\n"
     ]
    }
   ],
   "source": [
    "a=int(input('a='))\n",
    "yu=a//100\n",
    "on=a%100//10\n",
    "bi=a%10\n",
    "print(yu*1+on*10+bi*100)"
   ]
  },
  {
   "cell_type": "code",
   "execution_count": 13,
   "id": "9019e44d",
   "metadata": {},
   "outputs": [
    {
     "name": "stdout",
     "output_type": "stream",
     "text": [
      "a=132\n",
      "213\n"
     ]
    }
   ],
   "source": [
    "a=int(input('a='))\n",
    "yu=a//100\n",
    "on=a%100//10\n",
    "bi=a%10\n",
    "print(bi*100+yu*10+on)"
   ]
  },
  {
   "cell_type": "code",
   "execution_count": 14,
   "id": "9111314a",
   "metadata": {},
   "outputs": [
    {
     "name": "stdout",
     "output_type": "stream",
     "text": [
      "a=456\n",
      "564\n"
     ]
    }
   ],
   "source": [
    "a=int(input('a='))\n",
    "yu=a//100\n",
    "on=a%100//10\n",
    "bi=a%10\n",
    "print(on*100+bi*10+yu)"
   ]
  },
  {
   "cell_type": "code",
   "execution_count": 15,
   "id": "342dc8d0",
   "metadata": {},
   "outputs": [
    {
     "name": "stdout",
     "output_type": "stream",
     "text": [
      "a=123\n",
      "213\n"
     ]
    }
   ],
   "source": [
    "a=int(input('a='))\n",
    "yu=a//100\n",
    "on=a%100//10\n",
    "bi=a%10\n",
    "print(on*100+yu*10+bi)"
   ]
  },
  {
   "cell_type": "code",
   "execution_count": 16,
   "id": "7c11dba5",
   "metadata": {},
   "outputs": [
    {
     "name": "stdout",
     "output_type": "stream",
     "text": [
      "a=123\n",
      "132\n"
     ]
    }
   ],
   "source": [
    "a=int(input('a='))\n",
    "yu=a//100\n",
    "on=a%100//10\n",
    "bi=a%10\n",
    "print(yu*100+bi*10+on)"
   ]
  },
  {
   "cell_type": "code",
   "execution_count": 17,
   "id": "c4132e82",
   "metadata": {},
   "outputs": [
    {
     "name": "stdout",
     "output_type": "stream",
     "text": [
      "a=1254689568789\n",
      "789\n"
     ]
    }
   ],
   "source": [
    "a=int(input('a='))\n",
    "yuz=a%1000\n",
    "print(yuz)"
   ]
  },
  {
   "cell_type": "code",
   "execution_count": 18,
   "id": "62f06efa",
   "metadata": {},
   "outputs": [
    {
     "name": "stdout",
     "output_type": "stream",
     "text": [
      "a=456231852147\n",
      "2147\n"
     ]
    }
   ],
   "source": [
    "a=int(input('a='))\n",
    "ming=a%10000\n",
    "print(ming)"
   ]
  },
  {
   "cell_type": "code",
   "execution_count": 19,
   "id": "8c4a9149",
   "metadata": {},
   "outputs": [
    {
     "name": "stdout",
     "output_type": "stream",
     "text": [
      "n=451\n",
      "7\n"
     ]
    }
   ],
   "source": [
    "n=int(input('n='))\n",
    "minut=n//60\n",
    "print(minut)"
   ]
  },
  {
   "cell_type": "code",
   "execution_count": 20,
   "id": "27ac8538",
   "metadata": {},
   "outputs": [
    {
     "name": "stdout",
     "output_type": "stream",
     "text": [
      "n=36074\n",
      "10\n"
     ]
    }
   ],
   "source": [
    "n=int(input('n='))\n",
    "s=n//3600\n",
    "print(s)"
   ]
  },
  {
   "cell_type": "code",
   "execution_count": 21,
   "id": "525cc722",
   "metadata": {},
   "outputs": [
    {
     "name": "stdout",
     "output_type": "stream",
     "text": [
      "n=4569\n",
      "76 9\n"
     ]
    }
   ],
   "source": [
    "n=int(input('n='))\n",
    "minut=n//60\n",
    "s=n%60\n",
    "print(minut , s)"
   ]
  },
  {
   "cell_type": "code",
   "execution_count": 22,
   "id": "586d2767",
   "metadata": {},
   "outputs": [
    {
     "name": "stdout",
     "output_type": "stream",
     "text": [
      "n=4562\n",
      "1 2\n"
     ]
    }
   ],
   "source": [
    "n=int(input('n='))\n",
    "so=n//3600\n",
    "s=n%60\n",
    "print(so  ,  s)"
   ]
  },
  {
   "cell_type": "code",
   "execution_count": 23,
   "id": "b662f476",
   "metadata": {},
   "outputs": [
    {
     "name": "stdout",
     "output_type": "stream",
     "text": [
      "n=4561\n",
      "1 16 1\n"
     ]
    }
   ],
   "source": [
    "n=int(input('n='))\n",
    "so=n//3600\n",
    "minut=n%3600//60\n",
    "s=n%60\n",
    "print(so  ,  minut  , s)"
   ]
  },
  {
   "cell_type": "code",
   "execution_count": 24,
   "id": "1b66aee0",
   "metadata": {},
   "outputs": [
    {
     "name": "stdout",
     "output_type": "stream",
     "text": [
      "k=42\n",
      "0\n"
     ]
    }
   ],
   "source": [
    "k=int(input('k='))\n",
    "print(k%7)"
   ]
  },
  {
   "cell_type": "code",
   "execution_count": 25,
   "id": "f8d6f28e",
   "metadata": {},
   "outputs": [
    {
     "name": "stdout",
     "output_type": "stream",
     "text": [
      "k=12\n",
      "1\n"
     ]
    }
   ],
   "source": [
    "k=int(input('k='))\n",
    "print((k+3)%7)"
   ]
  },
  {
   "cell_type": "code",
   "execution_count": 26,
   "id": "f17d4170",
   "metadata": {},
   "outputs": [
    {
     "name": "stdout",
     "output_type": "stream",
     "text": [
      "k=10\n",
      "4\n"
     ]
    }
   ],
   "source": [
    "k=int(input('k='))\n",
    "print((k+1)%7)"
   ]
  },
  {
   "cell_type": "code",
   "execution_count": 27,
   "id": "002ccd86",
   "metadata": {},
   "outputs": [
    {
     "name": "stdout",
     "output_type": "stream",
     "text": [
      "k=9\n",
      "1\n"
     ]
    }
   ],
   "source": [
    "k=int(input('k='))\n",
    "print((k+6)%7)"
   ]
  },
  {
   "cell_type": "code",
   "execution_count": 28,
   "id": "c91a4f2d",
   "metadata": {},
   "outputs": [
    {
     "name": "stdout",
     "output_type": "stream",
     "text": [
      "k=4\n",
      "1-7 gacha bo`lgan hafta kun=3\n",
      "hafta= 6\n"
     ]
    }
   ],
   "source": [
    "k=int(input('k='))\n",
    "n=int(input('1-7 gacha bo`lgan hafta kun='))\n",
    "hafta=(k-1+n)%7\n",
    "print('hafta=',hafta)"
   ]
  },
  {
   "cell_type": "code",
   "execution_count": 29,
   "id": "8c880f74",
   "metadata": {},
   "outputs": [
    {
     "name": "stdout",
     "output_type": "stream",
     "text": [
      "a=4\n",
      "b=5\n",
      "c=2\n",
      "5 0\n"
     ]
    }
   ],
   "source": [
    "a=int(input('a='))\n",
    "b=int(input('b='))\n",
    "c=int(input('c='))\n",
    "butun=a//c*b//c\n",
    "qoldiq=a*b-(a//c*b//c)*c**2\n",
    "print(butun  , qoldiq)"
   ]
  },
  {
   "cell_type": "code",
   "execution_count": 30,
   "id": "31c5e247",
   "metadata": {},
   "outputs": [
    {
     "name": "stdout",
     "output_type": "stream",
     "text": [
      "n=1999\n",
      "20\n"
     ]
    }
   ],
   "source": [
    "n=int(input('n='))\n",
    "print(n//100+1)"
   ]
  },
  {
   "cell_type": "code",
   "execution_count": null,
   "id": "03c68f9e",
   "metadata": {},
   "outputs": [],
   "source": []
  }
 ],
 "metadata": {
  "kernelspec": {
   "display_name": "Python 3 (ipykernel)",
   "language": "python",
   "name": "python3"
  },
  "language_info": {
   "codemirror_mode": {
    "name": "ipython",
    "version": 3
   },
   "file_extension": ".py",
   "mimetype": "text/x-python",
   "name": "python",
   "nbconvert_exporter": "python",
   "pygments_lexer": "ipython3",
   "version": "3.9.8"
  }
 },
 "nbformat": 4,
 "nbformat_minor": 5
}
