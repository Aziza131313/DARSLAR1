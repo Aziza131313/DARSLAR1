{
 "cells": [
  {
   "cell_type": "code",
   "execution_count": 1,
   "id": "8a939079",
   "metadata": {},
   "outputs": [
    {
     "name": "stdout",
     "output_type": "stream",
     "text": [
      "n=4\n",
      "payshanba\n"
     ]
    }
   ],
   "source": [
    "n=int(input(\"n=\"))\n",
    "kun=n%7\n",
    "if kun==1:\n",
    "    print(\"dushanba\")\n",
    "if kun==2:\n",
    "    print(\"seshanba\")\n",
    "if kun==3:\n",
    "    print(\"chorshanba\")\n",
    "if kun==4:                                     \n",
    "    print(\"payshanba\")\n",
    "if kun==5:\n",
    "    print(\"juma\")\n",
    "if kun==6:\n",
    "    print(\"shanba\")\n",
    "if kun==7:\n",
    "    print(\"yakshanba\")"
   ]
  },
  {
   "cell_type": "code",
   "execution_count": 2,
   "id": "419c5f21",
   "metadata": {},
   "outputs": [
    {
     "name": "stdout",
     "output_type": "stream",
     "text": [
      "k=2\n",
      "qoniqarsiz\n"
     ]
    }
   ],
   "source": [
    "k=int(input(\"k=\"))\n",
    "if 1<=k<=5:\n",
    "    if k==1:\n",
    "        print(\"yomon\")\n",
    "    elif k==2:\n",
    "        print (\"qoniqarsiz\")\n",
    "    elif k==3:\n",
    "        print(\"qoniqarli\")             \n",
    "    elif k==4:\n",
    "        print(\"yaxshi\")\n",
    "    else :\n",
    "        print(\"a`lo\")\n",
    "else:\n",
    "        print(\"xato\")"
   ]
  },
  {
   "cell_type": "code",
   "execution_count": 3,
   "id": "5fd3a723",
   "metadata": {},
   "outputs": [
    {
     "name": "stdout",
     "output_type": "stream",
     "text": [
      "oy=2\n",
      "qish\n"
     ]
    }
   ],
   "source": [
    "oy=int(input(\"oy=\"))\n",
    "if 1<=oy<=12:\n",
    "    if oy==1  or oy==2 :\n",
    "        print(\"qish\")\n",
    "    elif oy==3 or oy==4 or oy==5:\n",
    "            print(\"bahor\")\n",
    "    elif oy==6 or oy==7 or oy==8:                     \n",
    "            print(\"yoz\")\n",
    "    elif oy==9 or oy==10 or oy==11:\n",
    "            print(\"kuz\")\n",
    "    else :\n",
    "            print(\"qish\")\n",
    "else:\n",
    "    print(\"xato\")"
   ]
  },
  {
   "cell_type": "code",
   "execution_count": 4,
   "id": "247d28ef",
   "metadata": {},
   "outputs": [
    {
     "name": "stdout",
     "output_type": "stream",
     "text": [
      "oy=4\n",
      "30 \n"
     ]
    }
   ],
   "source": [
    "oy=int(input(\"oy=\"))\n",
    "if 1<=oy<=12:\n",
    "    if oy==1 or oy==3 or oy==5 or oy==7 or oy==8 or oy==10 or oy==12:\n",
    "        print(\" 31 \")\n",
    "    elif oy==2:\n",
    "        print(\"28 or 29\")\n",
    "    \n",
    "    elif oy==4 or oy==6 or oy==9 or oy==11:                         \n",
    "            print(\"30 \")\n",
    "else:\n",
    "    print(\"xato\")"
   ]
  },
  {
   "cell_type": "code",
   "execution_count": 5,
   "id": "09551a95",
   "metadata": {},
   "outputs": [
    {
     "name": "stdout",
     "output_type": "stream",
     "text": [
      "a=5\n",
      "b=4\n",
      "amal=-\n",
      "1\n"
     ]
    }
   ],
   "source": [
    "a=int(input(\"a=\"))\n",
    "b=int(input(\"b=\"))\n",
    "amal=input(\"amal=\")\n",
    "if  amal==\"+\":\n",
    "    print(a+b)\n",
    "elif amal==\"-\":                       \n",
    "    print(a-b)\n",
    "elif amal==\"/\":\n",
    "    print(a/b)\n",
    "else :\n",
    "    print(a*b)"
   ]
  },
  {
   "cell_type": "code",
   "execution_count": 7,
   "id": "960fc61c",
   "metadata": {},
   "outputs": [
    {
     "name": "stdout",
     "output_type": "stream",
     "text": [
      "a=1000\n",
      "L=m\n"
     ]
    },
    {
     "ename": "TypeError",
     "evalue": "unsupported operand type(s) for /: 'str' and 'int'",
     "output_type": "error",
     "traceback": [
      "\u001b[1;31m---------------------------------------------------------------------------\u001b[0m",
      "\u001b[1;31mTypeError\u001b[0m                                 Traceback (most recent call last)",
      "Input \u001b[1;32mIn [7]\u001b[0m, in \u001b[0;36m<module>\u001b[1;34m\u001b[0m\n\u001b[0;32m      2\u001b[0m L\u001b[38;5;241m=\u001b[39m\u001b[38;5;28minput\u001b[39m(\u001b[38;5;124m\"\u001b[39m\u001b[38;5;124mL=\u001b[39m\u001b[38;5;124m\"\u001b[39m)\n\u001b[0;32m      4\u001b[0m \u001b[38;5;28;01mif\u001b[39;00m L\u001b[38;5;241m==\u001b[39m \u001b[38;5;124m\"\u001b[39m\u001b[38;5;124mm\u001b[39m\u001b[38;5;124m\"\u001b[39m:\n\u001b[1;32m----> 5\u001b[0m     \u001b[38;5;28mprint\u001b[39m(\u001b[38;5;124m\"\u001b[39m\u001b[38;5;124m dm =\u001b[39m\u001b[38;5;124m\"\u001b[39m,\u001b[43ma\u001b[49m\u001b[38;5;241;43m/\u001b[39;49m\u001b[38;5;241;43m10\u001b[39;49m)              \n\u001b[0;32m      6\u001b[0m     \u001b[38;5;28mprint\u001b[39m(\u001b[38;5;124m\"\u001b[39m\u001b[38;5;124m km =\u001b[39m\u001b[38;5;124m\"\u001b[39m,a\u001b[38;5;241m/\u001b[39m\u001b[38;5;241m1000\u001b[39m)\n\u001b[0;32m      7\u001b[0m     \u001b[38;5;28mprint\u001b[39m(\u001b[38;5;124m\"\u001b[39m\u001b[38;5;124m m=\u001b[39m\u001b[38;5;124m\"\u001b[39m,a\u001b[38;5;241m/\u001b[39m\u001b[38;5;241m1\u001b[39m)                                             \n",
      "\u001b[1;31mTypeError\u001b[0m: unsupported operand type(s) for /: 'str' and 'int'"
     ]
    }
   ],
   "source": [
    "a=input(\"a=\")\n",
    "L=input(\"L=\")\n",
    "\n",
    "if L== \"m\":\n",
    "    print(\" dm =\",a/10)              \n",
    "    print(\" km =\",a/1000)\n",
    "    print(\" m=\",a/1)                                             \n",
    "    print(\" mm= \",a*1000)\n",
    "    print(\" sm= \",a/100)\n",
    "if L== \"sm\":\n",
    "    print(\" dm =\",a/10)              \n",
    "    print(\" km =\",a/1000)\n",
    "    print(\" m=\",a*100)                                             \n",
    "    print(\" mm= \",a/10)\n",
    "    print(\" sm= \",a/1)\n",
    "if L== \"mm\":\n",
    "    print(\" dm =\",a*100)              \n",
    "    print(\" km =\",a*1000000)\n",
    "    print(\" mm=\",a/1)                                             \n",
    "    print(\" m= \",a*1000)\n",
    "    print(\" sm= \",a/10)\n",
    "if L== \"km\":\n",
    "    print(\" dm =\",a/10000)              \n",
    "    print(\" km =\",a/1)\n",
    "    print(\" m=\",a/1000)                                             \n",
    "    print(\" mm= \",a/1000000)\n",
    "    print(\" sm= \",a/10000)\n",
    "if L== \"dm\":\n",
    "    print(\" dm =\",a/1)              \n",
    "    print(\" km =\",a/10000)\n",
    "    print(\" m=\",a/1)                                             \n",
    "    print(\" mm= \",a*1000)\n",
    "    print(\" sm= \",a/100)"
   ]
  },
  {
   "cell_type": "code",
   "execution_count": 8,
   "id": "b67d2d51",
   "metadata": {},
   "outputs": [
    {
     "name": "stdout",
     "output_type": "stream",
     "text": [
      "a=100\n",
      "amal=sn\n"
     ]
    }
   ],
   "source": [
    "a=int(input(\"a=\"))\n",
    "amal==input(\"amal=\")\n",
    "if amal==\"kg\":\n",
    "    print(\"kg=\",a/1)\n",
    "    print( \"mg=\",a/1000000)\n",
    "    print(\"g=\",a/1000)                  \n",
    "    print(\"t=\",a*1000)\n",
    "    print(\"sn=\",a*100)\n",
    "if amal==\"mg\":\n",
    "    print(\"kg=\",a/1)\n",
    "    print( \"mg=\",a/1000000)\n",
    "    print(\"g=\",a/1000)                  \n",
    "    print(\"t=\",a*1000)\n",
    "    print(\"sn=\",a*100)\n",
    "if amal==\"g\":\n",
    "    print(\"kg=\",a/1000)\n",
    "    print( \"mg=\",a*1000)\n",
    "    print(\"g=\",a/1)                  \n",
    "    print(\"t=\",a/1000000)\n",
    "    print(\"sn=\",a/100000)\n",
    "if amal==\"t\":\n",
    "    print(\"kg=\",a/1000)\n",
    "    print( \"mg=\",a/100000000)\n",
    "    print(\"g=\",a/1000000)                  \n",
    "    print(\"t=\",a/1)\n",
    "    print(\"sn=\",a/10)\n",
    "if amal==\"sn\":\n",
    "    print(\"kg=\",a/100)\n",
    "    print( \"mg=\",a/100000000)\n",
    "    print(\"g=\",a/100000)                  \n",
    "    print(\"t=\",a/10)\n",
    "    print(\"sn=\",a/1)\n",
    "    "
   ]
  },
  {
   "cell_type": "code",
   "execution_count": 9,
   "id": "96a6632a",
   "metadata": {},
   "outputs": [
    {
     "name": "stdout",
     "output_type": "stream",
     "text": [
      "kun10\n",
      "oy1\n",
      "10 yanvar\n"
     ]
    }
   ],
   "source": [
    "d=int(input(\"kun\"))\n",
    "m=int(input(\"oy\"))\n",
    "d<32 and d>0\n",
    "if m==1:\n",
    "    print(d,'yanvar')\n",
    "if m==2 and d<=29:\n",
    "    print(d,\"fevral\")\n",
    "if m==3:\n",
    "    print(d,\"mart\")                    \n",
    "if m==4:\n",
    "    print(d,\"aprel\")\n",
    "if m==5:\n",
    "    print(d,\"may\")\n",
    "if m==6:\n",
    "    print(d,\"iyun\")\n",
    "if m==7:\n",
    "    print(d,\"iyul\")\n",
    "if m==8:\n",
    "    print(d,\"avgust\")\n",
    "if m==9:\n",
    "    print(d,\"sentabr\")\n",
    "if m==10:\n",
    "    print(d,\"oktabr\")\n",
    "if m==11:\n",
    "    print(d,\"noyabr\")\n",
    "if m==12:\n",
    "    print(d,\"dekabr\")"
   ]
  },
  {
   "cell_type": "code",
   "execution_count": 10,
   "id": "d5ecb662",
   "metadata": {},
   "outputs": [
    {
     "name": "stdout",
     "output_type": "stream",
     "text": [
      "d=4\n",
      "m=5\n",
      "5-5\n"
     ]
    }
   ],
   "source": [
    "d=int(input(\"d=\"))\n",
    "m=int(input(\"m=\"))\n",
    "d=d+1\n",
    "if m==4 or m==6 or m==9 or m==11:\n",
    "    if d>30:\n",
    "        d=1\n",
    "        m=m+1\n",
    "elif m==2:\n",
    "    if d>28:\n",
    "        d=1\n",
    "        m=m+1                                                     \n",
    "    if m>12:\n",
    "        m=1\n",
    "print(d,m,sep='-')      "
   ]
  },
  {
   "cell_type": "code",
   "execution_count": 11,
   "id": "eb01a11b",
   "metadata": {},
   "outputs": [
    {
     "name": "stdout",
     "output_type": "stream",
     "text": [
      "qarab turgan tomon=s\n",
      "b=2\n",
      "sharq\n"
     ]
    }
   ],
   "source": [
    "t=input(\"qarab turgan tomon=\")\n",
    "b=int(input(\"b=\"))\n",
    "if t=='s':\n",
    "    if b==0:\n",
    "        print(\"shimol\") \n",
    "    if b==1:\n",
    "        print(\"g`arb\")\n",
    "    if b==2:\n",
    "        print(\"sharq\")\n",
    "if t=='sh':\n",
    "    if b==0:\n",
    "        print(\"sharq\") \n",
    "    if b==1:\n",
    "        print(\"shimol\")\n",
    "    if b==2:\n",
    "        print(\"janub\")\n",
    "if t=='j':\n",
    "    if b==0:\n",
    "        print(\"janub\")                                        \n",
    "    if b==1:\n",
    "        print(\"sharq\")\n",
    "    if b==2:\n",
    "        print(\"g`arb\")\n",
    "if t==\"g`\":\n",
    "    if b==0:\n",
    "        print(\"g`arb\") \n",
    "    if b==1:\n",
    "        print(\"janub\")\n",
    "    if b==2:\n",
    "        print(\"shimol\")"
   ]
  },
  {
   "cell_type": "code",
   "execution_count": 12,
   "id": "e8cff822",
   "metadata": {},
   "outputs": [
    {
     "name": "stdout",
     "output_type": "stream",
     "text": [
      "boshlang`ich holati=g`\n",
      "buyruq=2\n",
      "sharq\n"
     ]
    }
   ],
   "source": [
    "k1=input(\"boshlang`ich holati=\")\n",
    "k2=int(input(\"buyruq=\"))\n",
    "if k1=='s':\n",
    "    if k2==0:\n",
    "        print(\"sharq\")\n",
    "    if k2==1:\n",
    "        print(\"g`arb\")\n",
    "    if k2==2:\n",
    "        print(\"janub\")\n",
    "if k1=='sh':\n",
    "    if k2==0:\n",
    "        print(\"janub\")\n",
    "    if k2==1:\n",
    "        print(\"shimol\")\n",
    "    if k2==2:\n",
    "        print(\"g`arb\")\n",
    "if k1==\"j\":\n",
    "    if k2==0:\n",
    "        print(\"g`arb\")\n",
    "    if k2==1:\n",
    "        print(\"sharq\")\n",
    "    if k2==2:\n",
    "        print(\"shimol\")\n",
    "if k1==\"g`\":                                                \n",
    "    if k2==0:\n",
    "        print(\"shimol\")\n",
    "    if k2==1:\n",
    "        print(\"janub\")\n",
    "    if k2==2:\n",
    "        print(\"sharq\")"
   ]
  },
  {
   "cell_type": "code",
   "execution_count": 13,
   "id": "23ca5954",
   "metadata": {},
   "outputs": [
    {
     "name": "stdout",
     "output_type": "stream",
     "text": [
      "radius4\n",
      "amal2\n",
      "diametr 8\n"
     ]
    }
   ],
   "source": [
    "from math import *\n",
    "r=int(input(\"radius\"))\n",
    "amal=int(input(\"amal\"))\n",
    "if amal==1:\n",
    "    print(\"radius\",r)\n",
    "elif amal==2:\n",
    "    d=2*r                               \n",
    "    print(\"diametr\",d)\n",
    "elif amal==3:\n",
    "    l=2*pi*r\n",
    "    print(\"uzunlig\",l)\n",
    "elif amal==4:\n",
    "    s=4*pi*r**2\n",
    "    print(\"yuza\",s)\n",
    "    "
   ]
  },
  {
   "cell_type": "code",
   "execution_count": 14,
   "id": "26a75157",
   "metadata": {},
   "outputs": [
    {
     "name": "stdout",
     "output_type": "stream",
     "text": [
      "a=4\n",
      "amal=1\n",
      "katet 4\n"
     ]
    }
   ],
   "source": [
    "a=int(input(\"a=\"))\n",
    "amal=int(input(\"amal=\"))\n",
    "if amal==1:\n",
    "    print(\"katet\",a)\n",
    "elif amal==2:\n",
    "    c=a*(2)**0.5                            \n",
    "    print(\"gipotenuza\",c)\n",
    "elif amal==3:\n",
    "    h=c/2\n",
    "    print(\"balandlik\",h)\n",
    "elif amal==4:\n",
    "    s=(c*h)/2\n",
    "    print(\"yuza\",s)\n",
    "    "
   ]
  },
  {
   "cell_type": "code",
   "execution_count": 15,
   "id": "11184354",
   "metadata": {},
   "outputs": [
    {
     "name": "stdout",
     "output_type": "stream",
     "text": [
      "tomoni3\n",
      "amal2\n",
      "ichki chizilgan aylana radiusi 0.8660254037844387\n"
     ]
    }
   ],
   "source": [
    "a=int(input(\"tomoni\"))\n",
    "amal=int(input(\"amal\"))\n",
    "if amal==1:\n",
    "    print(\"tomoni\",a)\n",
    "elif amal==2:\n",
    "    r1=a*((3)**0.5)/6                                              \n",
    "    print(\"ichki chizilgan aylana radiusi\",r1)\n",
    "elif amal==3:\n",
    "    print(\"tashqi chizilgan aylana radiusi\",r2)\n",
    "elif amal==4:\n",
    "    s=((a**2)*(3)**0.5)/4\n",
    "    print(\"yuzasi\",s)"
   ]
  },
  {
   "cell_type": "code",
   "execution_count": 16,
   "id": "3701afc5",
   "metadata": {},
   "outputs": [
    {
     "name": "stdout",
     "output_type": "stream",
     "text": [
      "n=6\n",
      "m=4\n",
      "olti qarg`a\n"
     ]
    }
   ],
   "source": [
    "n=int(input('n='))\n",
    "m=int(input('m='))\n",
    "\n",
    "if 6<=n<=14:\n",
    "    if n==6:\n",
    "        print(\"olti \",end='')                      \n",
    "    if n==7:\n",
    "        print(\"yetti \",end='')\n",
    "    if n==8:\n",
    "        print(\"sakkiz \",end='')\n",
    "    if n==9:\n",
    "        print(\"to`qiz \",end='')\n",
    "    if n==10:\n",
    "        print(\"o`n \",end='')\n",
    "    if  n==11:\n",
    "        print(\"valet \",end='')                        \n",
    "    if n==12:\n",
    "        print(\"dama \",end='')\n",
    "    if n==13:\n",
    "        print(\"qirol \",end='')\n",
    "    if n==14: \n",
    "        print(\"tuz \",end='')\n",
    "if 1<=m<=4:\n",
    "    if m==1:\n",
    "        print(\"g`isht\")\n",
    "    if m==2:\n",
    "        print(\"olma\")\n",
    "    if m==3:\n",
    "        print(\"chillak\")\n",
    "    if m==4:\n",
    "        print(\"qarg`a\")"
   ]
  },
  {
   "cell_type": "code",
   "execution_count": 17,
   "id": "8d3bbc06",
   "metadata": {},
   "outputs": [
    {
     "name": "stdout",
     "output_type": "stream",
     "text": [
      "a=41\n",
      "qirqbir yosh"
     ]
    }
   ],
   "source": [
    "a=int(input(\"a=\"))\n",
    "onlik=a//10\n",
    "birlik=a%10\n",
    "if onlik==2:\n",
    "    print(\"yigirma\",end='')\n",
    "if onlik==3:\n",
    "    print(\"o`ttiz\",end='')\n",
    "if onlik==4:\n",
    "    print(\"qirq\",end='')                                     \n",
    "if onlik==5:\n",
    "    print(\"ellik\",end='')\n",
    "if onlik==6:\n",
    "    print(\"oltmish\",end='')\n",
    "if birlik==1:                          \n",
    "    \n",
    "    print(\"bir \",end='yosh')\n",
    "if birlik==2:\n",
    "    print(\"ikki \",end='yosh')\n",
    "if birlik==3:\n",
    "    print(\"uch \",end='yosh')\n",
    "if birlik==4:\n",
    "    print(\"to`rt\",end='yosh')\n",
    "if birlik==5:\n",
    "    print(\"besh \",end='yosh')\n",
    "if birlik==6:\n",
    "    print(\"olti \",end='yosh')\n",
    "if birlik==7:\n",
    "    print(\"yetti \",end= 'yosh')\n",
    "if birlik==8:\n",
    "    print(\"sakkiz \",end='yosh')\n",
    "if birlik==9:\n",
    "    print(\"to`qqiz \",end='yosh')"
   ]
  },
  {
   "cell_type": "code",
   "execution_count": 18,
   "id": "66fb2411",
   "metadata": {},
   "outputs": [
    {
     "name": "stdout",
     "output_type": "stream",
     "text": [
      "a=21\n",
      "yigirmabirta masala"
     ]
    }
   ],
   "source": [
    "a=int(input(\"a=\"))\n",
    "onlik=a//10\n",
    "birlik=a%10\n",
    "if 10<=a<=40:\n",
    "    if onlik==1:\n",
    "        print(\"o`n\",end='')\n",
    "    if onlik==2:\n",
    "        print(\"yigirma\",end='')\n",
    "    if onlik==3:\n",
    "        print(\"o`ttiz\",end='')\n",
    "    if onlik==4:\n",
    "        print(\"qirq\",end='')                                      \n",
    "\n",
    "    if birlik==1:                                         \n",
    "        print(\"bir\",end='ta masala')\n",
    "    if birlik==2:\n",
    "        print(\"ikki\",end='ta masala')\n",
    "    if birlik==3:\n",
    "        print(\"uch\",end='ta masala')\n",
    "    if birlik==4:\n",
    "        print(\"to`rt\",end='ta masala')\n",
    "    if birlik==5:\n",
    "        print(\"besh\",end='ta masala')\n",
    "    if birlik==6:\n",
    "        print(\"olti\",end='ta masala')\n",
    "    if birlik==7:\n",
    "        print(\"yetti\",end='ta masala')\n",
    "    if birlik==8:\n",
    "        print(\"sakkiz\",end='ta masala')\n",
    "    if birlik==9:\n",
    "        print(\"to`qqiz\",end='ta masala')\n",
    "   "
   ]
  },
  {
   "cell_type": "code",
   "execution_count": 19,
   "id": "c5a3817b",
   "metadata": {},
   "outputs": [
    {
     "name": "stdout",
     "output_type": "stream",
     "text": [
      "a=119\n",
      "bir yuz o`n to`qqizta masala"
     ]
    }
   ],
   "source": [
    "a=int(input(\"a=\"))\n",
    "yuzlik=a//100\n",
    "onlik=a%100//10\n",
    "birlik=a%10\n",
    "if 100<=a<=999:\n",
    "    if yuzlik==1:\n",
    "        print(\"bir yuz \",end='')\n",
    "    if yuzlik==2:\n",
    "        print(\"ikki yuz \",end='')\n",
    "    if yuzlik==3:\n",
    "        print(\"uch yuz \",end='')\n",
    "    if yuzlik==4:\n",
    "        print(\"to`rt yuz \",end='')\n",
    "    if yuzlik==5:\n",
    "        print(\"besh yuz \",end='')    \n",
    "        \n",
    "    if yuzlik==6:\n",
    "        print(\"olti yuz \",end='')   \n",
    "        \n",
    "    if yuzlik==7:\n",
    "        print(\"yett iyuz \",end='')   \n",
    "    if yuzlik==8:\n",
    "        print(\"sakkiz yuz \",end='')\n",
    "        \n",
    "    if yuzlik==9:\n",
    "        print(\"to`qqiz yuz \",end='')    \n",
    "        \n",
    "        \n",
    "    if onlik==1:\n",
    "        print(\"o`n \",end='')\n",
    "    if onlik==2:\n",
    "        print(\"yigirma \",end='')\n",
    "    if onlik==3:\n",
    "        print(\"o`ttiz \",end='')\n",
    "    if onlik==4:\n",
    "        print(\"qirq \",end='')  \n",
    "        \n",
    "    if onlik==5:\n",
    "        print(\"ellik \",end='')\n",
    "    if onlik==6:\n",
    "        print(\"oltmish \",end='')\n",
    "    if onlik==7:\n",
    "        print(\"yetmish \",end='')\n",
    "    if onlik==8:\n",
    "        print(\"sakson \",end='')      \n",
    "    \n",
    "    if onlik==9:                                       \n",
    "        print(\"to`qson \",end='')\n",
    "\n",
    "    if birlik==1:                                  \n",
    "        print(\"bir\",end='ta masala')\n",
    "    if birlik==2:\n",
    "        print(\"ikki\",end='ta masala')\n",
    "    if birlik==3:\n",
    "        print(\"uch\",end='ta masala')\n",
    "    if birlik==4:\n",
    "        print(\"to`rt\",end ='ta masala')\n",
    "    if birlik==5:\n",
    "        print(\"besh\",end='ta masala')\n",
    "    if birlik==6:\n",
    "        print(\"olti\",end='ta masala')\n",
    "    if birlik==7:\n",
    "        print(\"yetti\",end='ta masala')\n",
    "    if birlik==8:\n",
    "        print(\"sakkiz\",end='ta masala')\n",
    "    if birlik==9:\n",
    "        print(\"to`qqiz\",end='ta masala')"
   ]
  },
  {
   "cell_type": "code",
   "execution_count": 20,
   "id": "13ffdd7b",
   "metadata": {},
   "outputs": [
    {
     "name": "stdout",
     "output_type": "stream",
     "text": [
      "yil=1999\n",
      "ot oq "
     ]
    }
   ],
   "source": [
    "yil=int(input(\"yil=\"))\n",
    "if yil%12==1:\n",
    "    print(\"sichqon \",end='')\n",
    "if yil%12==2:\n",
    "    print(\"sigir \",end='')\n",
    "if yil%12==3:\n",
    "    print(\"yo`lbars \",end='')\n",
    "if yil%12==4:\n",
    "    print(\"quyon \",end='')\n",
    "if yil%12==5:\n",
    "    print(\"ajdar \",end='')\n",
    "if yil%12==6:\n",
    "    print(\"ilon \",end='')\n",
    "if yil%12==7:\n",
    "    print(\"ot \",end='')\n",
    "if yil%12==8:\n",
    "    print(\"qo`y \",end='')\n",
    "if yil%12==9:\n",
    "    print(\"maymun \",end='') \n",
    "if yil%12==10:                                                                 \n",
    "    print(\"tovuq \",end='')\n",
    "if yil%12==11:\n",
    "    print(\"it \",end='')\n",
    "if yil%12==0:\n",
    "    print(\"to`ngiz \",end='')\n",
    "if yil%5==1:\n",
    "    print(\"yashil \",end='')\n",
    "if yil%5==2:    \n",
    "    print(\"qizil \",end='')\n",
    "if yil%5==3:  \n",
    "    print(\"sariq \",end='')\n",
    "if yil%5==4:\n",
    "    print(\"oq \",end='')\n",
    "if yil%5==0:\n",
    "    print(\"qora \",end='')\n"
   ]
  },
  {
   "cell_type": "code",
   "execution_count": 21,
   "id": "6de5af11",
   "metadata": {},
   "outputs": [
    {
     "ename": "SyntaxError",
     "evalue": "invalid syntax (1528258738.py, line 30)",
     "output_type": "error",
     "traceback": [
      "\u001b[1;36m  Input \u001b[1;32mIn [21]\u001b[1;36m\u001b[0m\n\u001b[1;33m    elif m<=1 or d<=2:\u001b[0m\n\u001b[1;37m    ^\u001b[0m\n\u001b[1;31mSyntaxError\u001b[0m\u001b[1;31m:\u001b[0m invalid syntax\n"
     ]
    }
   ],
   "source": [
    "d=int(input(\"d=\"))\n",
    "m=int(input(\"m=\"))\n",
    "if  1<=d<=31:\n",
    "    if d<=20 or d<=18:\n",
    "        print(\"qovg`a \",end='')\n",
    "    elif d<=19 or d<=20:\n",
    "        print(\"baliq \",end='')\n",
    "    elif d<=21 or d<=19:\n",
    "        print(\"qo`y \",end='')\n",
    "    elif d<=20 or d<=20:\n",
    "        print(\"buzoq \",end='')\n",
    "    elif d<=21 or d<=21:\n",
    "        print(\"egizaklar \",end='')\n",
    "    elif d<=22 or d<=22:\n",
    "        print(\"qisqichbaqa \",end='')\n",
    "    elif d<=23 or d<=22:\n",
    "        print(\"arslon \",end='')\n",
    "    elif d<=22 or d<=23:\n",
    "        print(\"parizod \",end='')\n",
    "    elif d<=23 or d<=22:\n",
    "        print(\"tarozi \",end='')\n",
    "    elif d<=23 or d<=22:\n",
    "        print(\"chayon \",end='')\n",
    "    elif d<=23 or d<=21:\n",
    "        print(\"o`qotar \",end='')\n",
    "    elif d<=22 or d<=19:\n",
    "        print(\"echki \",end='') \n",
    "        \n",
    "if 1<=m<=12:\n",
    "    elif m<=1 or d<=2:\n",
    "        print(\"qovg`a \")\n",
    "    elif m<=2 or m<=3:\n",
    "        print(\"baliq \")\n",
    "    elif m<=3 or m<=4:\n",
    "        print(\"qo`y \")\n",
    "    elif m<=4 or m<=5:\n",
    "        print(\"buzoq \")\n",
    "    elif m<=5 or m<=6:\n",
    "        print(\"egizaklar \")\n",
    "    elif m<=6 or m<=7:\n",
    "        print(\"qisqichbaqa \")\n",
    "    elif m<=7 or m<=8:\n",
    "        print(\"arslon \")\n",
    "    elif m<=8 or m<=9:\n",
    "        print(\"parizod \")\n",
    "    elif m<=9 or m<=10:\n",
    "        print(\"tarozi \")\n",
    "    elif m<=10 or m<=11:\n",
    "        print(\"chayon \")\n",
    "    elif m<=11 or m<=12:\n",
    "        print(\"o`qotar \")\n",
    "    elif m<=12 or m<=1:\n",
    "        print(\"echki \")"
   ]
  },
  {
   "cell_type": "code",
   "execution_count": 29,
   "id": "64dcb76c",
   "metadata": {},
   "outputs": [
    {
     "name": "stdout",
     "output_type": "stream",
     "text": [
      "d=20\n",
      "m=1\n",
      "qovg`a \n",
      "baliq \n",
      "qo`y \n",
      "buzoq \n",
      "egizaklar \n",
      "qisqichbaqa \n",
      "arslon \n",
      "parizod \n",
      "tarozi \n",
      "chayon \n",
      "o`qotar \n",
      "echki \n"
     ]
    }
   ],
   "source": [
    "d=int(input(\"d=\"))\n",
    "m=int(input(\"m=\"))\n",
    "if  0<m<13:\n",
    "    if d<21 or d<18:\n",
    "        print(\"qovg`a \")\n",
    "  \n",
    "    if d<=19 or d<=20:\n",
    "        print(\"baliq \")\n",
    "  \n",
    "    if d<=21 or d<=19:\n",
    "        print(\"qo`y \")\n",
    "   \n",
    "    if d<=20 or d<=20:\n",
    "        print(\"buzoq \")\n",
    "    \n",
    "    if d<=21 or d<=21:\n",
    "        print(\"egizaklar \")\n",
    "   \n",
    "    if d<=22 or d<=22:\n",
    "        print(\"qisqichbaqa \")\n",
    "   \n",
    "    if d<=23 or d<=22:\n",
    "        print(\"arslon \")\n",
    "    \n",
    "    if d<=22 or d<=23:\n",
    "        print(\"parizod \")\n",
    "   \n",
    "    if d<=23 or d<=22:\n",
    "        print(\"tarozi \")\n",
    "  \n",
    "    if d<=23 or d<=22:\n",
    "        print(\"chayon \")\n",
    "    \n",
    "    if d<=23 or d<=21:\n",
    "        print(\"o`qotar \")\n",
    "    \n",
    "    if d<=22 or d<=19:\n",
    "        print(\"echki \")\n",
    "   "
   ]
  },
  {
   "cell_type": "code",
   "execution_count": null,
   "id": "f88581e9",
   "metadata": {},
   "outputs": [],
   "source": []
  }
 ],
 "metadata": {
  "kernelspec": {
   "display_name": "Python 3 (ipykernel)",
   "language": "python",
   "name": "python3"
  },
  "language_info": {
   "codemirror_mode": {
    "name": "ipython",
    "version": 3
   },
   "file_extension": ".py",
   "mimetype": "text/x-python",
   "name": "python",
   "nbconvert_exporter": "python",
   "pygments_lexer": "ipython3",
   "version": "3.9.8"
  }
 },
 "nbformat": 4,
 "nbformat_minor": 5
}
