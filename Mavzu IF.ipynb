{
 "cells": [
  {
   "cell_type": "markdown",
   "id": "18bdcee9",
   "metadata": {},
   "source": [
    "#  IF\n"
   ]
  },
  {
   "cell_type": "code",
   "execution_count": 1,
   "id": "46407ef9",
   "metadata": {},
   "outputs": [
    {
     "name": "stdout",
     "output_type": "stream",
     "text": [
      "a=4\n",
      "a+1= 5\n"
     ]
    }
   ],
   "source": [
    "a=int(input(\"a=\"))\n",
    "if a>0:\n",
    "    print(\"a+1=\",a+1)\n",
    "else:\n",
    "    print(a)"
   ]
  },
  {
   "cell_type": "code",
   "execution_count": 2,
   "id": "3bd1eda4",
   "metadata": {},
   "outputs": [
    {
     "name": "stdout",
     "output_type": "stream",
     "text": [
      "a=4\n",
      "a+1= 5\n"
     ]
    }
   ],
   "source": [
    "a=int(input(\"a=\"))\n",
    "if a>0:\n",
    "    print(\"a+1=\",a+1)\n",
    "else:\n",
    "    print(\"a-2=\",a-2)"
   ]
  },
  {
   "cell_type": "code",
   "execution_count": 3,
   "id": "2ce29d5c",
   "metadata": {},
   "outputs": [
    {
     "name": "stdout",
     "output_type": "stream",
     "text": [
      "a=4\n",
      "a+1= 5\n"
     ]
    }
   ],
   "source": [
    "a=int(input(\"a=\"))\n",
    "if a>0:\n",
    "    print(\"a+1=\",a+1)\n",
    "elif a<0 :\n",
    "    print(\"a-2=\",a-2)\n",
    "else :    \n",
    "    print(10)"
   ]
  },
  {
   "cell_type": "code",
   "execution_count": 4,
   "id": "8f59de38",
   "metadata": {},
   "outputs": [
    {
     "name": "stdout",
     "output_type": "stream",
     "text": [
      "a=4\n",
      "b=5\n",
      "c=6\n",
      "3 ta musbat\n"
     ]
    }
   ],
   "source": [
    "a=int(input(\"a=\"))\n",
    "b=int(input(\"b=\"))\n",
    "c=int(input(\"c=\"))\n",
    "S=0\n",
    "if a>0:\n",
    "    S=S+1\n",
    "if b>0:\n",
    "    S=S+1\n",
    "if c>0:\n",
    "    S=S+1\n",
    "print(S,'ta musbat')"
   ]
  },
  {
   "cell_type": "code",
   "execution_count": 5,
   "id": "937f1b73",
   "metadata": {},
   "outputs": [
    {
     "name": "stdout",
     "output_type": "stream",
     "text": [
      "a=4\n",
      "b=5\n",
      "c=6\n",
      "3 ta musbat 0 ta manfiy\n"
     ]
    }
   ],
   "source": [
    "a=int(input(\"a=\"))\n",
    "b=int(input(\"b=\"))\n",
    "c=int(input(\"c=\"))\n",
    "s=0\n",
    "if a>0:\n",
    "    s=s+1\n",
    "if b>0:\n",
    "    s=s+1\n",
    "if c>0:\n",
    "    s=s+1\n",
    "print(s,'ta musbat',3-s,'ta manfiy')"
   ]
  },
  {
   "cell_type": "code",
   "execution_count": 6,
   "id": "aff60f7a",
   "metadata": {},
   "outputs": [
    {
     "name": "stdout",
     "output_type": "stream",
     "text": [
      "a=4\n",
      "b=1\n",
      "a katta b dan\n"
     ]
    }
   ],
   "source": [
    "a=int(input(\"a=\"))\n",
    "b=int(input(\"b=\"))\n",
    "if a>b :\n",
    "    print(\"a katta b dan\")\n",
    "else :\n",
    "    print(\"b katta a dan\")"
   ]
  },
  {
   "cell_type": "code",
   "execution_count": 7,
   "id": "47a37fbd",
   "metadata": {},
   "outputs": [
    {
     "name": "stdout",
     "output_type": "stream",
     "text": [
      "a=4\n",
      "b=2\n",
      "b kichik taratib raqami 2\n"
     ]
    }
   ],
   "source": [
    "a=int(input(\"a=\"))\n",
    "b=int(input(\"b=\"))\n",
    "if a>b :\n",
    "    print(\"b kichik taratib raqami 2\")\n",
    "else :\n",
    "    print(\"a kichik tartib raqami 1\")"
   ]
  },
  {
   "cell_type": "code",
   "execution_count": 8,
   "id": "52ab28a5",
   "metadata": {},
   "outputs": [
    {
     "name": "stdout",
     "output_type": "stream",
     "text": [
      "a=4\n",
      "b=5\n",
      "5 kattasi 4 kichigi\n"
     ]
    }
   ],
   "source": [
    "a=int(input(\"a=\"))\n",
    "b=int(input(\"b=\"))\n",
    "if a>b :\n",
    "    print(a,'kattasi',b ,'kichigi')\n",
    "else:\n",
    "    print(b,'kattasi',a ,'kichigi')"
   ]
  },
  {
   "cell_type": "code",
   "execution_count": 9,
   "id": "867c0fe6",
   "metadata": {},
   "outputs": [
    {
     "name": "stdout",
     "output_type": "stream",
     "text": [
      "a=4\n",
      "b=5\n",
      "5 4\n"
     ]
    }
   ],
   "source": [
    "a=int(input(\"a=\"))\n",
    "b=int(input(\"b=\"))\n",
    "if a<b:\n",
    "    a=a+b\n",
    "    b=a-b\n",
    "    a=a-b\n",
    "print(a,b)"
   ]
  },
  {
   "cell_type": "code",
   "execution_count": 10,
   "id": "9610dfc4",
   "metadata": {},
   "outputs": [
    {
     "name": "stdout",
     "output_type": "stream",
     "text": [
      "a=1\n",
      "b=5\n",
      "6 a+b\n"
     ]
    }
   ],
   "source": [
    "a=int(input(\"a=\"))\n",
    "b=int(input(\"b=\"))\n",
    "if a!=b:\n",
    "    print(a+b,'a+b')\n",
    "else:\n",
    "    print(\"0\")"
   ]
  },
  {
   "cell_type": "code",
   "execution_count": 11,
   "id": "923a7ec8",
   "metadata": {},
   "outputs": [
    {
     "name": "stdout",
     "output_type": "stream",
     "text": [
      "a=4\n",
      "b=0\n",
      "kattasi a\n"
     ]
    }
   ],
   "source": [
    "a=int(input(\"a=\"))\n",
    "b=int(input(\"b=\"))\n",
    "if a!=b and a>b:\n",
    "    print(\"kattasi a\")\n",
    "elif b!=a and b>a:\n",
    "      print(\"kattasi b\")\n",
    "else:\n",
    "    print(\"0\")"
   ]
  },
  {
   "cell_type": "code",
   "execution_count": 12,
   "id": "56c75ef6",
   "metadata": {},
   "outputs": [
    {
     "name": "stdout",
     "output_type": "stream",
     "text": [
      "a=4\n",
      "b=4\n",
      "c=5\n",
      "a= 4\n"
     ]
    }
   ],
   "source": [
    "a=int(input(\"a=\"))\n",
    "b=int(input(\"b=\"))\n",
    "c=int(input(\"c=\"))\n",
    "if a>b>c:\n",
    "    print(\" c=\",c)\n",
    "elif a>c>b:\n",
    "    print(\"b=\",b)\n",
    "else:    \n",
    "    print(\"a=\",a)"
   ]
  },
  {
   "cell_type": "code",
   "execution_count": 13,
   "id": "8dd832d1",
   "metadata": {},
   "outputs": [
    {
     "name": "stdout",
     "output_type": "stream",
     "text": [
      "a=4\n",
      "b=5\n",
      "c=6\n",
      "b= 5\n"
     ]
    }
   ],
   "source": [
    "a=int(input(\"a=\"))\n",
    "b=int(input(\"b=\"))\n",
    "c=int(input(\"c=\"))\n",
    "if a>b>c or c>b>a:\n",
    "    print(\"b=\",b)\n",
    "if b>a>c or c>a>b:\n",
    "    print(\"a=\",a)\n",
    "if a>c>b or b>c>a:   \n",
    "    print(\" c=\",c)"
   ]
  },
  {
   "cell_type": "code",
   "execution_count": 14,
   "id": "fc82c9a1",
   "metadata": {},
   "outputs": [
    {
     "name": "stdout",
     "output_type": "stream",
     "text": [
      "a=4\n",
      "b=5\n",
      "c=6\n",
      "a , b\n",
      "b,c\n"
     ]
    }
   ],
   "source": [
    "a=int(input(\"a=\"))\n",
    "b=int(input(\"b=\"))\n",
    "c=int(input(\"c=\"))\n",
    "if  a<b<c:\n",
    "    print(\"a , b\")\n",
    "if a>b and c>b:\n",
    "    print(\"a,c\")\n",
    "if b>a and c>a:    \n",
    "    print(\"b,c\")"
   ]
  },
  {
   "cell_type": "code",
   "execution_count": 15,
   "id": "c1818401",
   "metadata": {},
   "outputs": [
    {
     "name": "stdout",
     "output_type": "stream",
     "text": [
      "a=4\n",
      "b=5\n",
      "c=6\n",
      "b+c\n"
     ]
    }
   ],
   "source": [
    "a=int(input(\"a=\"))\n",
    "b=int(input(\"b=\"))\n",
    "c=int(input(\"c=\"))\n",
    "if  a>b and c>b:\n",
    "    print(\"c+a\")\n",
    "if a>b and c>b:\n",
    "    print(\"a+b\")\n",
    "if b>a and c>a:    \n",
    "    print(\"b+c\")"
   ]
  },
  {
   "cell_type": "code",
   "execution_count": 16,
   "id": "ddc682e4",
   "metadata": {},
   "outputs": [
    {
     "name": "stdout",
     "output_type": "stream",
     "text": [
      "a=4\n",
      "b=2\n",
      "c=3\n",
      "-4 -2 -3\n"
     ]
    }
   ],
   "source": [
    "a=int(input(\"a=\"))\n",
    "b=int(input(\"b=\"))\n",
    "c=int(input(\"c=\"))\n",
    "\n",
    "if a<b<c:\n",
    "    a=2*a\n",
    "    b=2*b\n",
    "    c=2*c\n",
    "else :\n",
    "    a=-a\n",
    "    b=-b\n",
    "    c=-c\n",
    "print(a,b,c)"
   ]
  },
  {
   "cell_type": "code",
   "execution_count": 17,
   "id": "ab9683cc",
   "metadata": {},
   "outputs": [
    {
     "name": "stdout",
     "output_type": "stream",
     "text": [
      "a=4\n",
      "b=7\n",
      "c=9\n",
      "8 14 18\n"
     ]
    }
   ],
   "source": [
    "a=int(input(\"a=\"))\n",
    "b=int(input(\"b=\"))\n",
    "c=int(input(\"c=\"))\n",
    "if a<b<c:\n",
    "    a=2*a\n",
    "    b=2*b\n",
    "    c=2*c\n",
    "else :\n",
    "    a=-a\n",
    "    b=-b\n",
    "    c=-c\n",
    "print(a,b,c)"
   ]
  },
  {
   "cell_type": "code",
   "execution_count": 18,
   "id": "9498982d",
   "metadata": {},
   "outputs": [
    {
     "name": "stdout",
     "output_type": "stream",
     "text": [
      "a=4\n",
      "b=5\n",
      "c=6\n",
      "b teng c tartib raqam 1\n"
     ]
    }
   ],
   "source": [
    "a=int(input(\"a=\"))\n",
    "b=int(input(\"b=\"))\n",
    "c=int(input(\"c=\"))\n",
    "if a==b and a!=c:\n",
    "    print(\"a teng b tartib raqam 3\")    \n",
    "elif a==c and c!=b:\n",
    "    print(\"a teng c tartib raqam 2\")\n",
    "else :\n",
    "    print (\"b teng c tartib raqam 1\")"
   ]
  },
  {
   "cell_type": "code",
   "execution_count": 19,
   "id": "965540b8",
   "metadata": {},
   "outputs": [
    {
     "name": "stdout",
     "output_type": "stream",
     "text": [
      "a=4\n",
      "b=4\n",
      "c=4\n",
      "d=5\n",
      "a teng b teng c tartib raqam 4\n"
     ]
    }
   ],
   "source": [
    "a=int(input(\"a=\"))\n",
    "b=int(input(\"b=\"))\n",
    "c=int(input(\"c=\"))\n",
    "d=int(input(\"d=\"))\n",
    "if a==b==c and a!=d:\n",
    "    print(\"a teng b teng c tartib raqam 4\")    \n",
    "elif a==c==d and c!=b:\n",
    "    print(\"a teng c teng d tartib raqam 2\")\n",
    "elif a==b==d and b!=c:\n",
    "    print (\"a teng b teng d tartib raqam 3\")\n",
    "else :\n",
    "    print(\"b teng c teng d tartib raqam 1\")"
   ]
  },
  {
   "cell_type": "code",
   "execution_count": 20,
   "id": "2970cba0",
   "metadata": {},
   "outputs": [
    {
     "name": "stdout",
     "output_type": "stream",
     "text": [
      "a=4\n",
      "b=5\n",
      "c=6\n",
      "1\n"
     ]
    }
   ],
   "source": [
    "a=int(input(\"a=\"))\n",
    "b=int(input(\"b=\"))\n",
    "c=int(input(\"c=\"))\n",
    "if a<b<c:\n",
    "    print(b-a)\n",
    "if a<c<b:\n",
    "     print( abs(c-a))"
   ]
  },
  {
   "cell_type": "code",
   "execution_count": 21,
   "id": "3ddbfe4f",
   "metadata": {},
   "outputs": [
    {
     "name": "stdout",
     "output_type": "stream",
     "text": [
      "x=4\n",
      "y=0\n",
      "1\n"
     ]
    }
   ],
   "source": [
    "x=int(input(\"x=\"))\n",
    "y=int(input(\"y=\"))\n",
    "if x==0 and y==0:\n",
    "    print(\"0\")\n",
    "elif x>0 and y==0:\n",
    "    print(\"1\")\n",
    "elif x==0 and y<0:\n",
    "    print(\"2\")\n",
    "else :\n",
    "    print(\"3\")"
   ]
  },
  {
   "cell_type": "code",
   "execution_count": 22,
   "id": "fb7717eb",
   "metadata": {},
   "outputs": [
    {
     "name": "stdout",
     "output_type": "stream",
     "text": [
      "x=4\n",
      "y=2\n",
      "chorak 1\n"
     ]
    }
   ],
   "source": [
    "x=int(input(\"x=\"))\n",
    "y=int(input(\"y=\"))\n",
    "if x>0 and y>0:\n",
    "    print(\"chorak 1\")\n",
    "elif x<0 and y>0:\n",
    "    print(\"chorak 2\")\n",
    "elif x<0 and y<0:\n",
    "    print(\"chorak 3\")\n",
    "else:\n",
    "    print(\"chorak 4\")"
   ]
  },
  {
   "cell_type": "code",
   "execution_count": 31,
   "id": "3b9ad40e",
   "metadata": {},
   "outputs": [
    {
     "name": "stdout",
     "output_type": "stream",
     "text": [
      "x1=1\n",
      "x2=2\n",
      "y1=1\n",
      "y2=1\n",
      "x3=1\n",
      "y3=1\n",
      "2 1\n"
     ]
    }
   ],
   "source": [
    "x1=int(input('x1='))\n",
    "x2=int(input('x2='))\n",
    "y1=int(input('y1='))\n",
    "y2=int(input('y2='))\n",
    "x3=int(input('x3='))\n",
    "y3=int(input('y3='))\n",
    "if x1==x2:\n",
    "    x4=x3\n",
    "if x2==x3:\n",
    "    x4=x1\n",
    "if x1==x3:\n",
    "    x4=x2\n",
    "if y1==y2:\n",
    "    y4=y3\n",
    "if y1==y3:\n",
    "    y4=y2\n",
    "if y2==y3:\n",
    "    y4=y1\n",
    "print(x4,y4)"
   ]
  },
  {
   "cell_type": "code",
   "execution_count": 24,
   "id": "6f319ed4",
   "metadata": {},
   "outputs": [
    {
     "name": "stdout",
     "output_type": "stream",
     "text": [
      "x=4\n",
      "-1.5136049906158564\n"
     ]
    }
   ],
   "source": [
    "from math import *\n",
    "x=int(input(\"x=\"))\n",
    "if x>0:\n",
    "    print(2*sin(x))\n",
    "elif x<=0:\n",
    "    print(x-6)"
   ]
  },
  {
   "cell_type": "code",
   "execution_count": 25,
   "id": "905c17f5",
   "metadata": {},
   "outputs": [
    {
     "name": "stdout",
     "output_type": "stream",
     "text": [
      "x=1\n",
      "-3*x= -3\n"
     ]
    }
   ],
   "source": [
    "from math import *\n",
    "x=int(input(\"x=\"))\n",
    "if x<-2 or x>2:\n",
    "    print(\"2*x=\",2*x)\n",
    "else:\n",
    "    print(\"-3*x=\",-3*x)"
   ]
  },
  {
   "cell_type": "code",
   "execution_count": 26,
   "id": "6cdfed4a",
   "metadata": {},
   "outputs": [
    {
     "name": "stdout",
     "output_type": "stream",
     "text": [
      "x=1\n",
      "x**2= 1\n"
     ]
    }
   ],
   "source": [
    "x=int(input(\"x=\"))\n",
    "if x<=0:\n",
    "    print(\"-x=\",-x)\n",
    "elif 0<x<2:\n",
    "    print(\"x**2=\",x**2)\n",
    "elif x>=2:\n",
    "    print(\"4\")"
   ]
  },
  {
   "cell_type": "code",
   "execution_count": 27,
   "id": "2affdc0b",
   "metadata": {},
   "outputs": [
    {
     "name": "stdout",
     "output_type": "stream",
     "text": [
      "x=4\n"
     ]
    }
   ],
   "source": [
    "x=int(input(\"x=\"))\n",
    "if x<0:\n",
    "    print(\"0\")\n",
    "elif 0<=x<1 and 2<=x<3:\n",
    "    print(\"1\")\n",
    "elif 1<=x<2 and 3<=x<4: \n",
    "    print(\"-1\")"
   ]
  },
  {
   "cell_type": "code",
   "execution_count": 28,
   "id": "b975076a",
   "metadata": {},
   "outputs": [
    {
     "name": "stdout",
     "output_type": "stream",
     "text": [
      "a=4\n",
      "kabisa\n"
     ]
    }
   ],
   "source": [
    "a=int(input('a='))\n",
    "if a%4==0 or a%100==0 and a%400!=0:\n",
    "     print(\"kabisa\") \n",
    "else:\n",
    "    print(\"kabisa yili emas\")\n",
    "    "
   ]
  },
  {
   "cell_type": "code",
   "execution_count": 29,
   "id": "63e8b5d4",
   "metadata": {},
   "outputs": [
    {
     "name": "stdout",
     "output_type": "stream",
     "text": [
      "a=456\n"
     ]
    }
   ],
   "source": [
    "a=int(input(\"a=\"))\n",
    "if a>0 and a%2==1:\n",
    "    print(\"musbat toq\")\n",
    "if a<0 and a%2==0:\n",
    "    print(\"manfiy juft\")\n",
    "if a==0:\n",
    "    print(\"0\")"
   ]
  },
  {
   "cell_type": "code",
   "execution_count": 30,
   "id": "76f8d493",
   "metadata": {},
   "outputs": [
    {
     "name": "stdout",
     "output_type": "stream",
     "text": [
      "a=1-999 gacha sonlar456\n",
      "ikki honali juft\n"
     ]
    }
   ],
   "source": [
    "a=int(input(\"a=1-999 gacha sonlar\"))\n",
    "if a>0 and a%2==0:\n",
    "    print(\"ikki honali juft\")\n",
    "if a>0 and a%2==1:\n",
    "    print(\"uch honali toq\")\n",
    " "
   ]
  }
 ],
 "metadata": {
  "kernelspec": {
   "display_name": "Python 3 (ipykernel)",
   "language": "python",
   "name": "python3"
  },
  "language_info": {
   "codemirror_mode": {
    "name": "ipython",
    "version": 3
   },
   "file_extension": ".py",
   "mimetype": "text/x-python",
   "name": "python",
   "nbconvert_exporter": "python",
   "pygments_lexer": "ipython3",
   "version": "3.9.8"
  }
 },
 "nbformat": 4,
 "nbformat_minor": 5
}
